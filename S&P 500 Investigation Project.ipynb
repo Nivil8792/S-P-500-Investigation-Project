{
  "nbformat": 4,
  "nbformat_minor": 0,
  "metadata": {
    "colab": {
      "name": "S&P 500 Project.ipynb",
      "provenance": [],
      "collapsed_sections": []
    },
    "kernelspec": {
      "display_name": "Python 3",
      "name": "python3"
    }
  },
  "cells": [
    {
      "cell_type": "code",
      "metadata": {
        "colab": {
          "base_uri": "https://localhost:8080/"
        },
        "id": "93_5TkHtusot",
        "outputId": "4d4a7f18-c8f9-4dac-cbf9-c6e8663e03a1"
      },
      "source": [
        "pip install pandas"
      ],
      "execution_count": 1,
      "outputs": [
        {
          "output_type": "stream",
          "text": [
            "Requirement already satisfied: pandas in /usr/local/lib/python3.6/dist-packages (1.1.5)\n",
            "Requirement already satisfied: python-dateutil>=2.7.3 in /usr/local/lib/python3.6/dist-packages (from pandas) (2.8.1)\n",
            "Requirement already satisfied: numpy>=1.15.4 in /usr/local/lib/python3.6/dist-packages (from pandas) (1.19.4)\n",
            "Requirement already satisfied: pytz>=2017.2 in /usr/local/lib/python3.6/dist-packages (from pandas) (2018.9)\n",
            "Requirement already satisfied: six>=1.5 in /usr/local/lib/python3.6/dist-packages (from python-dateutil>=2.7.3->pandas) (1.15.0)\n"
          ],
          "name": "stdout"
        }
      ]
    },
    {
      "cell_type": "code",
      "metadata": {
        "colab": {
          "base_uri": "https://localhost:8080/"
        },
        "id": "UIcE5TBNn99y",
        "outputId": "252d29b4-3e5d-42f7-b258-41d475eef468"
      },
      "source": [
        "!pip install gdown\n",
        "!pip install tensorflow-gpu"
      ],
      "execution_count": 3,
      "outputs": [
        {
          "output_type": "stream",
          "text": [
            "Requirement already satisfied: gdown in /usr/local/lib/python3.6/dist-packages (3.6.4)\n",
            "Requirement already satisfied: six in /usr/local/lib/python3.6/dist-packages (from gdown) (1.15.0)\n",
            "Requirement already satisfied: tqdm in /usr/local/lib/python3.6/dist-packages (from gdown) (4.41.1)\n",
            "Requirement already satisfied: requests in /usr/local/lib/python3.6/dist-packages (from gdown) (2.23.0)\n",
            "Requirement already satisfied: urllib3!=1.25.0,!=1.25.1,<1.26,>=1.21.1 in /usr/local/lib/python3.6/dist-packages (from requests->gdown) (1.24.3)\n",
            "Requirement already satisfied: chardet<4,>=3.0.2 in /usr/local/lib/python3.6/dist-packages (from requests->gdown) (3.0.4)\n",
            "Requirement already satisfied: idna<3,>=2.5 in /usr/local/lib/python3.6/dist-packages (from requests->gdown) (2.10)\n",
            "Requirement already satisfied: certifi>=2017.4.17 in /usr/local/lib/python3.6/dist-packages (from requests->gdown) (2020.12.5)\n",
            "Collecting tensorflow-gpu\n",
            "\u001b[?25l  Downloading https://files.pythonhosted.org/packages/f1/aa/ae64be5acaac9055329289e6bfd54c1efa28bfe792f9021cea495fe2b89d/tensorflow_gpu-2.4.0-cp36-cp36m-manylinux2010_x86_64.whl (394.7MB)\n",
            "\u001b[K     |████████████████████████████████| 394.7MB 40kB/s \n",
            "\u001b[?25hRequirement already satisfied: protobuf>=3.9.2 in /usr/local/lib/python3.6/dist-packages (from tensorflow-gpu) (3.12.4)\n",
            "Requirement already satisfied: wheel~=0.35 in /usr/local/lib/python3.6/dist-packages (from tensorflow-gpu) (0.36.2)\n",
            "Requirement already satisfied: wrapt~=1.12.1 in /usr/local/lib/python3.6/dist-packages (from tensorflow-gpu) (1.12.1)\n",
            "Requirement already satisfied: numpy~=1.19.2 in /usr/local/lib/python3.6/dist-packages (from tensorflow-gpu) (1.19.4)\n",
            "Requirement already satisfied: keras-preprocessing~=1.1.2 in /usr/local/lib/python3.6/dist-packages (from tensorflow-gpu) (1.1.2)\n",
            "Requirement already satisfied: tensorflow-estimator<2.5.0,>=2.4.0rc0 in /usr/local/lib/python3.6/dist-packages (from tensorflow-gpu) (2.4.0)\n",
            "Requirement already satisfied: typing-extensions~=3.7.4 in /usr/local/lib/python3.6/dist-packages (from tensorflow-gpu) (3.7.4.3)\n",
            "Requirement already satisfied: grpcio~=1.32.0 in /usr/local/lib/python3.6/dist-packages (from tensorflow-gpu) (1.32.0)\n",
            "Requirement already satisfied: absl-py~=0.10 in /usr/local/lib/python3.6/dist-packages (from tensorflow-gpu) (0.10.0)\n",
            "Requirement already satisfied: h5py~=2.10.0 in /usr/local/lib/python3.6/dist-packages (from tensorflow-gpu) (2.10.0)\n",
            "Requirement already satisfied: google-pasta~=0.2 in /usr/local/lib/python3.6/dist-packages (from tensorflow-gpu) (0.2.0)\n",
            "Requirement already satisfied: six~=1.15.0 in /usr/local/lib/python3.6/dist-packages (from tensorflow-gpu) (1.15.0)\n",
            "Requirement already satisfied: flatbuffers~=1.12.0 in /usr/local/lib/python3.6/dist-packages (from tensorflow-gpu) (1.12)\n",
            "Requirement already satisfied: termcolor~=1.1.0 in /usr/local/lib/python3.6/dist-packages (from tensorflow-gpu) (1.1.0)\n",
            "Requirement already satisfied: gast==0.3.3 in /usr/local/lib/python3.6/dist-packages (from tensorflow-gpu) (0.3.3)\n",
            "Requirement already satisfied: astunparse~=1.6.3 in /usr/local/lib/python3.6/dist-packages (from tensorflow-gpu) (1.6.3)\n",
            "Requirement already satisfied: tensorboard~=2.4 in /usr/local/lib/python3.6/dist-packages (from tensorflow-gpu) (2.4.0)\n",
            "Requirement already satisfied: opt-einsum~=3.3.0 in /usr/local/lib/python3.6/dist-packages (from tensorflow-gpu) (3.3.0)\n",
            "Requirement already satisfied: setuptools in /usr/local/lib/python3.6/dist-packages (from protobuf>=3.9.2->tensorflow-gpu) (51.0.0)\n",
            "Requirement already satisfied: tensorboard-plugin-wit>=1.6.0 in /usr/local/lib/python3.6/dist-packages (from tensorboard~=2.4->tensorflow-gpu) (1.7.0)\n",
            "Requirement already satisfied: google-auth-oauthlib<0.5,>=0.4.1 in /usr/local/lib/python3.6/dist-packages (from tensorboard~=2.4->tensorflow-gpu) (0.4.2)\n",
            "Requirement already satisfied: markdown>=2.6.8 in /usr/local/lib/python3.6/dist-packages (from tensorboard~=2.4->tensorflow-gpu) (3.3.3)\n",
            "Requirement already satisfied: requests<3,>=2.21.0 in /usr/local/lib/python3.6/dist-packages (from tensorboard~=2.4->tensorflow-gpu) (2.23.0)\n",
            "Requirement already satisfied: werkzeug>=0.11.15 in /usr/local/lib/python3.6/dist-packages (from tensorboard~=2.4->tensorflow-gpu) (1.0.1)\n",
            "Requirement already satisfied: google-auth<2,>=1.6.3 in /usr/local/lib/python3.6/dist-packages (from tensorboard~=2.4->tensorflow-gpu) (1.17.2)\n",
            "Requirement already satisfied: requests-oauthlib>=0.7.0 in /usr/local/lib/python3.6/dist-packages (from google-auth-oauthlib<0.5,>=0.4.1->tensorboard~=2.4->tensorflow-gpu) (1.3.0)\n",
            "Requirement already satisfied: importlib-metadata; python_version < \"3.8\" in /usr/local/lib/python3.6/dist-packages (from markdown>=2.6.8->tensorboard~=2.4->tensorflow-gpu) (3.3.0)\n",
            "Requirement already satisfied: chardet<4,>=3.0.2 in /usr/local/lib/python3.6/dist-packages (from requests<3,>=2.21.0->tensorboard~=2.4->tensorflow-gpu) (3.0.4)\n",
            "Requirement already satisfied: certifi>=2017.4.17 in /usr/local/lib/python3.6/dist-packages (from requests<3,>=2.21.0->tensorboard~=2.4->tensorflow-gpu) (2020.12.5)\n",
            "Requirement already satisfied: idna<3,>=2.5 in /usr/local/lib/python3.6/dist-packages (from requests<3,>=2.21.0->tensorboard~=2.4->tensorflow-gpu) (2.10)\n",
            "Requirement already satisfied: urllib3!=1.25.0,!=1.25.1,<1.26,>=1.21.1 in /usr/local/lib/python3.6/dist-packages (from requests<3,>=2.21.0->tensorboard~=2.4->tensorflow-gpu) (1.24.3)\n",
            "Requirement already satisfied: pyasn1-modules>=0.2.1 in /usr/local/lib/python3.6/dist-packages (from google-auth<2,>=1.6.3->tensorboard~=2.4->tensorflow-gpu) (0.2.8)\n",
            "Requirement already satisfied: rsa<5,>=3.1.4; python_version >= \"3\" in /usr/local/lib/python3.6/dist-packages (from google-auth<2,>=1.6.3->tensorboard~=2.4->tensorflow-gpu) (4.6)\n",
            "Requirement already satisfied: cachetools<5.0,>=2.0.0 in /usr/local/lib/python3.6/dist-packages (from google-auth<2,>=1.6.3->tensorboard~=2.4->tensorflow-gpu) (4.2.0)\n",
            "Requirement already satisfied: oauthlib>=3.0.0 in /usr/local/lib/python3.6/dist-packages (from requests-oauthlib>=0.7.0->google-auth-oauthlib<0.5,>=0.4.1->tensorboard~=2.4->tensorflow-gpu) (3.1.0)\n",
            "Requirement already satisfied: zipp>=0.5 in /usr/local/lib/python3.6/dist-packages (from importlib-metadata; python_version < \"3.8\"->markdown>=2.6.8->tensorboard~=2.4->tensorflow-gpu) (3.4.0)\n",
            "Requirement already satisfied: pyasn1<0.5.0,>=0.4.6 in /usr/local/lib/python3.6/dist-packages (from pyasn1-modules>=0.2.1->google-auth<2,>=1.6.3->tensorboard~=2.4->tensorflow-gpu) (0.4.8)\n",
            "Installing collected packages: tensorflow-gpu\n",
            "Successfully installed tensorflow-gpu-2.4.0\n"
          ],
          "name": "stdout"
        }
      ]
    },
    {
      "cell_type": "code",
      "metadata": {
        "id": "ewD3j3t4_io9",
        "colab": {
          "base_uri": "https://localhost:8080/"
        },
        "outputId": "0f303707-d56e-4637-e9cb-3d14d008b3e1"
      },
      "source": [
        "import numpy as np\n",
        "import tensorflow as tf\n",
        "import pandas as pd\n",
        "pd.options.mode.chained_assignment = None\n",
        "import seaborn as sns\n",
        "from matplotlib.pylab import rcParams\n",
        "import matplotlib.pyplot as plt\n",
        "import plotly.express as px\n",
        "import plotly.graph_objects as go\n",
        "\n",
        "%matplotlib inline\n",
        "\n",
        "sns.set(style='whitegrid', palette='muted')\n",
        "rcParams['figure.figsize'] = 14, 8\n",
        "np.random.seed(1)\n",
        "tf.random.set_seed(1)\n",
        "\n",
        "print('Tensorflow version:', tf.__version__)\n"
      ],
      "execution_count": 4,
      "outputs": [
        {
          "output_type": "stream",
          "text": [
            "Tensorflow version: 2.4.0\n"
          ],
          "name": "stdout"
        }
      ]
    },
    {
      "cell_type": "code",
      "metadata": {
        "colab": {
          "base_uri": "https://localhost:8080/"
        },
        "id": "CU4rNiNGu2O8",
        "outputId": "ffafdc77-f29f-4402-d2ad-1e274a1fcf1d"
      },
      "source": [
        "sp=pd.read_csv(\"SPX.csv\")\n",
        "\n",
        "print(\"The shape of the raw data is\",sp.shape)\n",
        "\n",
        "\n"
      ],
      "execution_count": 5,
      "outputs": [
        {
          "output_type": "stream",
          "text": [
            "The shape of the raw data is (23323, 6)\n"
          ],
          "name": "stdout"
        }
      ]
    },
    {
      "cell_type": "code",
      "metadata": {
        "colab": {
          "base_uri": "https://localhost:8080/",
          "height": 204
        },
        "id": "4ife3wXbAgnD",
        "outputId": "f4414964-59de-490f-9cd1-e1e14e4e1423"
      },
      "source": [
        "sp.head()"
      ],
      "execution_count": 6,
      "outputs": [
        {
          "output_type": "execute_result",
          "data": {
            "text/html": [
              "<div>\n",
              "<style scoped>\n",
              "    .dataframe tbody tr th:only-of-type {\n",
              "        vertical-align: middle;\n",
              "    }\n",
              "\n",
              "    .dataframe tbody tr th {\n",
              "        vertical-align: top;\n",
              "    }\n",
              "\n",
              "    .dataframe thead th {\n",
              "        text-align: right;\n",
              "    }\n",
              "</style>\n",
              "<table border=\"1\" class=\"dataframe\">\n",
              "  <thead>\n",
              "    <tr style=\"text-align: right;\">\n",
              "      <th></th>\n",
              "      <th>Date</th>\n",
              "      <th>Open</th>\n",
              "      <th>High</th>\n",
              "      <th>Low</th>\n",
              "      <th>Close</th>\n",
              "      <th>Volume</th>\n",
              "    </tr>\n",
              "  </thead>\n",
              "  <tbody>\n",
              "    <tr>\n",
              "      <th>0</th>\n",
              "      <td>30/12/1927</td>\n",
              "      <td>17.660000</td>\n",
              "      <td>17.660000</td>\n",
              "      <td>17.660000</td>\n",
              "      <td>17.660000</td>\n",
              "      <td>0</td>\n",
              "    </tr>\n",
              "    <tr>\n",
              "      <th>1</th>\n",
              "      <td>03/01/1928</td>\n",
              "      <td>17.760000</td>\n",
              "      <td>17.760000</td>\n",
              "      <td>17.760000</td>\n",
              "      <td>17.760000</td>\n",
              "      <td>0</td>\n",
              "    </tr>\n",
              "    <tr>\n",
              "      <th>2</th>\n",
              "      <td>04/01/1928</td>\n",
              "      <td>17.719999</td>\n",
              "      <td>17.719999</td>\n",
              "      <td>17.719999</td>\n",
              "      <td>17.719999</td>\n",
              "      <td>0</td>\n",
              "    </tr>\n",
              "    <tr>\n",
              "      <th>3</th>\n",
              "      <td>05/01/1928</td>\n",
              "      <td>17.549999</td>\n",
              "      <td>17.549999</td>\n",
              "      <td>17.549999</td>\n",
              "      <td>17.549999</td>\n",
              "      <td>0</td>\n",
              "    </tr>\n",
              "    <tr>\n",
              "      <th>4</th>\n",
              "      <td>06/01/1928</td>\n",
              "      <td>17.660000</td>\n",
              "      <td>17.660000</td>\n",
              "      <td>17.660000</td>\n",
              "      <td>17.660000</td>\n",
              "      <td>0</td>\n",
              "    </tr>\n",
              "  </tbody>\n",
              "</table>\n",
              "</div>"
            ],
            "text/plain": [
              "         Date       Open       High        Low      Close  Volume\n",
              "0  30/12/1927  17.660000  17.660000  17.660000  17.660000       0\n",
              "1  03/01/1928  17.760000  17.760000  17.760000  17.760000       0\n",
              "2  04/01/1928  17.719999  17.719999  17.719999  17.719999       0\n",
              "3  05/01/1928  17.549999  17.549999  17.549999  17.549999       0\n",
              "4  06/01/1928  17.660000  17.660000  17.660000  17.660000       0"
            ]
          },
          "metadata": {
            "tags": []
          },
          "execution_count": 6
        }
      ]
    },
    {
      "cell_type": "code",
      "metadata": {
        "colab": {
          "base_uri": "https://localhost:8080/"
        },
        "id": "qWFaXohk_UuL",
        "outputId": "7c2bbd6c-2d62-48bb-8e1f-6793d80745db"
      },
      "source": [
        "sp.info()"
      ],
      "execution_count": 7,
      "outputs": [
        {
          "output_type": "stream",
          "text": [
            "<class 'pandas.core.frame.DataFrame'>\n",
            "RangeIndex: 23323 entries, 0 to 23322\n",
            "Data columns (total 6 columns):\n",
            " #   Column  Non-Null Count  Dtype  \n",
            "---  ------  --------------  -----  \n",
            " 0   Date    23323 non-null  object \n",
            " 1   Open    23323 non-null  float64\n",
            " 2   High    23323 non-null  float64\n",
            " 3   Low     23323 non-null  float64\n",
            " 4   Close   23323 non-null  float64\n",
            " 5   Volume  23323 non-null  int64  \n",
            "dtypes: float64(4), int64(1), object(1)\n",
            "memory usage: 1.1+ MB\n"
          ],
          "name": "stdout"
        }
      ]
    },
    {
      "cell_type": "code",
      "metadata": {
        "colab": {
          "base_uri": "https://localhost:8080/"
        },
        "id": "ovu87Co_YZWG",
        "outputId": "795d000a-3edf-425f-d33e-7fc08826461d"
      },
      "source": [
        "sp.columns"
      ],
      "execution_count": 8,
      "outputs": [
        {
          "output_type": "execute_result",
          "data": {
            "text/plain": [
              "Index(['Date', 'Open', 'High', 'Low', 'Close', 'Volume'], dtype='object')"
            ]
          },
          "metadata": {
            "tags": []
          },
          "execution_count": 8
        }
      ]
    },
    {
      "cell_type": "code",
      "metadata": {
        "colab": {
          "base_uri": "https://localhost:8080/"
        },
        "id": "yndNkAX04pTj",
        "outputId": "d444ba99-45e4-4bb8-d719-ba9883b097cd"
      },
      "source": [
        "#Replace the Date column with the appropriate type\n",
        "\n",
        "sp['Date'] = sp.loc[:,'Date'].astype('datetime64[ns]')\n",
        "\n",
        "sp.info()"
      ],
      "execution_count": 9,
      "outputs": [
        {
          "output_type": "stream",
          "text": [
            "<class 'pandas.core.frame.DataFrame'>\n",
            "RangeIndex: 23323 entries, 0 to 23322\n",
            "Data columns (total 6 columns):\n",
            " #   Column  Non-Null Count  Dtype         \n",
            "---  ------  --------------  -----         \n",
            " 0   Date    23323 non-null  datetime64[ns]\n",
            " 1   Open    23323 non-null  float64       \n",
            " 2   High    23323 non-null  float64       \n",
            " 3   Low     23323 non-null  float64       \n",
            " 4   Close   23323 non-null  float64       \n",
            " 5   Volume  23323 non-null  int64         \n",
            "dtypes: datetime64[ns](1), float64(4), int64(1)\n",
            "memory usage: 1.1 MB\n"
          ],
          "name": "stdout"
        }
      ]
    },
    {
      "cell_type": "code",
      "metadata": {
        "colab": {
          "base_uri": "https://localhost:8080/"
        },
        "id": "RhHmxreh0Hhs",
        "outputId": "68117920-6733-48ee-e43f-6b3ffde65c22"
      },
      "source": [
        "#Check how many empty cells there are in each column\n",
        "\n",
        "sp.isnull().sum().sort_values()"
      ],
      "execution_count": 10,
      "outputs": [
        {
          "output_type": "execute_result",
          "data": {
            "text/plain": [
              "Date      0\n",
              "Open      0\n",
              "High      0\n",
              "Low       0\n",
              "Close     0\n",
              "Volume    0\n",
              "dtype: int64"
            ]
          },
          "metadata": {
            "tags": []
          },
          "execution_count": 10
        }
      ]
    },
    {
      "cell_type": "markdown",
      "metadata": {
        "id": "_Ie1_ncK2NF6"
      },
      "source": [
        "Data Cleaning"
      ]
    },
    {
      "cell_type": "code",
      "metadata": {
        "colab": {
          "base_uri": "https://localhost:8080/"
        },
        "id": "9kOKFAao3ir5",
        "outputId": "145d9b50-04bf-4581-f2ac-e4fbf4d912b0"
      },
      "source": [
        "# Deletes all rows that have an empty cell\n",
        "\n",
        "sp= sp[sp.isnull().sum(axis=1)<=1]\n",
        "\n",
        "sp.shape"
      ],
      "execution_count": 11,
      "outputs": [
        {
          "output_type": "execute_result",
          "data": {
            "text/plain": [
              "(23323, 6)"
            ]
          },
          "metadata": {
            "tags": []
          },
          "execution_count": 11
        }
      ]
    },
    {
      "cell_type": "code",
      "metadata": {
        "colab": {
          "base_uri": "https://localhost:8080/"
        },
        "id": "QftZAWvserYZ",
        "outputId": "90b0117e-c6e4-4154-afc2-669848fc6070"
      },
      "source": [
        "x=sp.shape[1]\r\n",
        "print(x)"
      ],
      "execution_count": 12,
      "outputs": [
        {
          "output_type": "stream",
          "text": [
            "6\n"
          ],
          "name": "stdout"
        }
      ]
    },
    {
      "cell_type": "code",
      "metadata": {
        "colab": {
          "base_uri": "https://localhost:8080/"
        },
        "id": "Bp027vYoR1cQ",
        "outputId": "94599154-3933-4aa0-ba94-8615c62e319f"
      },
      "source": [
        "#Deletes all rows where the volume was less than 100\n",
        "\n",
        "sp.drop(sp[sp['Volume'] < 100].index, inplace = True) \n",
        "\n",
        "sp.shape"
      ],
      "execution_count": 13,
      "outputs": [
        {
          "output_type": "execute_result",
          "data": {
            "text/plain": [
              "(17827, 6)"
            ]
          },
          "metadata": {
            "tags": []
          },
          "execution_count": 13
        }
      ]
    },
    {
      "cell_type": "code",
      "metadata": {
        "colab": {
          "base_uri": "https://localhost:8080/",
          "height": 204
        },
        "id": "k3wEzPDZGijQ",
        "outputId": "69dbf67e-5a19-4f6d-da26-2619b139ba85"
      },
      "source": [
        "#Add the column -year, will be used by us later\n",
        "\n",
        "sp['year'] = sp['Date'].dt.year\n",
        "\n",
        "sp.head()"
      ],
      "execution_count": 14,
      "outputs": [
        {
          "output_type": "execute_result",
          "data": {
            "text/html": [
              "<div>\n",
              "<style scoped>\n",
              "    .dataframe tbody tr th:only-of-type {\n",
              "        vertical-align: middle;\n",
              "    }\n",
              "\n",
              "    .dataframe tbody tr th {\n",
              "        vertical-align: top;\n",
              "    }\n",
              "\n",
              "    .dataframe thead th {\n",
              "        text-align: right;\n",
              "    }\n",
              "</style>\n",
              "<table border=\"1\" class=\"dataframe\">\n",
              "  <thead>\n",
              "    <tr style=\"text-align: right;\">\n",
              "      <th></th>\n",
              "      <th>Date</th>\n",
              "      <th>Open</th>\n",
              "      <th>High</th>\n",
              "      <th>Low</th>\n",
              "      <th>Close</th>\n",
              "      <th>Volume</th>\n",
              "      <th>year</th>\n",
              "    </tr>\n",
              "  </thead>\n",
              "  <tbody>\n",
              "    <tr>\n",
              "      <th>5496</th>\n",
              "      <td>1950-03-01</td>\n",
              "      <td>16.66</td>\n",
              "      <td>16.66</td>\n",
              "      <td>16.66</td>\n",
              "      <td>16.66</td>\n",
              "      <td>1260000</td>\n",
              "      <td>1950</td>\n",
              "    </tr>\n",
              "    <tr>\n",
              "      <th>5497</th>\n",
              "      <td>1950-04-01</td>\n",
              "      <td>16.85</td>\n",
              "      <td>16.85</td>\n",
              "      <td>16.85</td>\n",
              "      <td>16.85</td>\n",
              "      <td>1890000</td>\n",
              "      <td>1950</td>\n",
              "    </tr>\n",
              "    <tr>\n",
              "      <th>5498</th>\n",
              "      <td>1950-05-01</td>\n",
              "      <td>16.93</td>\n",
              "      <td>16.93</td>\n",
              "      <td>16.93</td>\n",
              "      <td>16.93</td>\n",
              "      <td>2550000</td>\n",
              "      <td>1950</td>\n",
              "    </tr>\n",
              "    <tr>\n",
              "      <th>5499</th>\n",
              "      <td>1950-06-01</td>\n",
              "      <td>16.98</td>\n",
              "      <td>16.98</td>\n",
              "      <td>16.98</td>\n",
              "      <td>16.98</td>\n",
              "      <td>2010000</td>\n",
              "      <td>1950</td>\n",
              "    </tr>\n",
              "    <tr>\n",
              "      <th>5500</th>\n",
              "      <td>1950-09-01</td>\n",
              "      <td>17.08</td>\n",
              "      <td>17.08</td>\n",
              "      <td>17.08</td>\n",
              "      <td>17.08</td>\n",
              "      <td>2520000</td>\n",
              "      <td>1950</td>\n",
              "    </tr>\n",
              "  </tbody>\n",
              "</table>\n",
              "</div>"
            ],
            "text/plain": [
              "           Date   Open   High    Low  Close   Volume  year\n",
              "5496 1950-03-01  16.66  16.66  16.66  16.66  1260000  1950\n",
              "5497 1950-04-01  16.85  16.85  16.85  16.85  1890000  1950\n",
              "5498 1950-05-01  16.93  16.93  16.93  16.93  2550000  1950\n",
              "5499 1950-06-01  16.98  16.98  16.98  16.98  2010000  1950\n",
              "5500 1950-09-01  17.08  17.08  17.08  17.08  2520000  1950"
            ]
          },
          "metadata": {
            "tags": []
          },
          "execution_count": 14
        }
      ]
    },
    {
      "cell_type": "code",
      "metadata": {
        "colab": {
          "base_uri": "https://localhost:8080/"
        },
        "id": "MlhRytxiz7Ej",
        "outputId": "bcfdd76e-1294-4d72-d50a-34f01b0c815d"
      },
      "source": [
        "#Information about the data types of the columns\n",
        "\n",
        "sp.dtypes.value_counts()"
      ],
      "execution_count": 15,
      "outputs": [
        {
          "output_type": "execute_result",
          "data": {
            "text/plain": [
              "float64           4\n",
              "int64             2\n",
              "datetime64[ns]    1\n",
              "dtype: int64"
            ]
          },
          "metadata": {
            "tags": []
          },
          "execution_count": 15
        }
      ]
    },
    {
      "cell_type": "code",
      "metadata": {
        "id": "jGaDivBK9iiB"
      },
      "source": [
        "#The test begins, is it worth holding the S&P 500 over time?"
      ],
      "execution_count": 16,
      "outputs": []
    },
    {
      "cell_type": "code",
      "metadata": {
        "id": "oPtwnif6EMFH"
      },
      "source": [
        "#Extracting just the fields that we need into a new dataframe with daily data\n",
        "\n",
        "sp_Close = sp[[\"Close\",'Date']]"
      ],
      "execution_count": 17,
      "outputs": []
    },
    {
      "cell_type": "code",
      "metadata": {
        "id": "fl1ztiqHIMw_"
      },
      "source": [
        "#Setting the index of the dataframe to date\n",
        "\n",
        "sp_Close = sp_Close.set_index('Date')"
      ],
      "execution_count": 18,
      "outputs": []
    },
    {
      "cell_type": "code",
      "metadata": {
        "id": "X94xdlZNIUWf",
        "colab": {
          "base_uri": "https://localhost:8080/",
          "height": 235
        },
        "outputId": "5ac21174-6324-4e6d-e235-51b17678a028"
      },
      "source": [
        "#Take a look at the first few rows of the dataframe\n",
        "\n",
        "sp_Close.head()"
      ],
      "execution_count": 19,
      "outputs": [
        {
          "output_type": "execute_result",
          "data": {
            "text/html": [
              "<div>\n",
              "<style scoped>\n",
              "    .dataframe tbody tr th:only-of-type {\n",
              "        vertical-align: middle;\n",
              "    }\n",
              "\n",
              "    .dataframe tbody tr th {\n",
              "        vertical-align: top;\n",
              "    }\n",
              "\n",
              "    .dataframe thead th {\n",
              "        text-align: right;\n",
              "    }\n",
              "</style>\n",
              "<table border=\"1\" class=\"dataframe\">\n",
              "  <thead>\n",
              "    <tr style=\"text-align: right;\">\n",
              "      <th></th>\n",
              "      <th>Close</th>\n",
              "    </tr>\n",
              "    <tr>\n",
              "      <th>Date</th>\n",
              "      <th></th>\n",
              "    </tr>\n",
              "  </thead>\n",
              "  <tbody>\n",
              "    <tr>\n",
              "      <th>1950-03-01</th>\n",
              "      <td>16.66</td>\n",
              "    </tr>\n",
              "    <tr>\n",
              "      <th>1950-04-01</th>\n",
              "      <td>16.85</td>\n",
              "    </tr>\n",
              "    <tr>\n",
              "      <th>1950-05-01</th>\n",
              "      <td>16.93</td>\n",
              "    </tr>\n",
              "    <tr>\n",
              "      <th>1950-06-01</th>\n",
              "      <td>16.98</td>\n",
              "    </tr>\n",
              "    <tr>\n",
              "      <th>1950-09-01</th>\n",
              "      <td>17.08</td>\n",
              "    </tr>\n",
              "  </tbody>\n",
              "</table>\n",
              "</div>"
            ],
            "text/plain": [
              "            Close\n",
              "Date             \n",
              "1950-03-01  16.66\n",
              "1950-04-01  16.85\n",
              "1950-05-01  16.93\n",
              "1950-06-01  16.98\n",
              "1950-09-01  17.08"
            ]
          },
          "metadata": {
            "tags": []
          },
          "execution_count": 19
        }
      ]
    },
    {
      "cell_type": "code",
      "metadata": {
        "id": "zEH68KE6Ifw5"
      },
      "source": [
        "#Sort the dataframe by date field\n",
        "\n",
        "sp_Close = sp_Close.sort_index()"
      ],
      "execution_count": 20,
      "outputs": []
    },
    {
      "cell_type": "code",
      "metadata": {
        "id": "KplOKkg5IlLr"
      },
      "source": [
        "#Create 2 new dataframes to hold the monthly average and yearly averages\n",
        "\n",
        "sp_month = sp_Close.resample('M').mean()\n",
        "\n",
        "sp_year = sp_Close.resample('Y').mean()"
      ],
      "execution_count": 21,
      "outputs": []
    },
    {
      "cell_type": "code",
      "metadata": {
        "colab": {
          "base_uri": "https://localhost:8080/",
          "height": 235
        },
        "id": "cvgaiZ1kJWGD",
        "outputId": "4a1df5e9-7ee6-44a6-f9e1-f4348e58c2ca"
      },
      "source": [
        "#Take a look at the monthly average price\n",
        "\n",
        "sp_month.head()"
      ],
      "execution_count": 22,
      "outputs": [
        {
          "output_type": "execute_result",
          "data": {
            "text/html": [
              "<div>\n",
              "<style scoped>\n",
              "    .dataframe tbody tr th:only-of-type {\n",
              "        vertical-align: middle;\n",
              "    }\n",
              "\n",
              "    .dataframe tbody tr th {\n",
              "        vertical-align: top;\n",
              "    }\n",
              "\n",
              "    .dataframe thead th {\n",
              "        text-align: right;\n",
              "    }\n",
              "</style>\n",
              "<table border=\"1\" class=\"dataframe\">\n",
              "  <thead>\n",
              "    <tr style=\"text-align: right;\">\n",
              "      <th></th>\n",
              "      <th>Close</th>\n",
              "    </tr>\n",
              "    <tr>\n",
              "      <th>Date</th>\n",
              "      <th></th>\n",
              "    </tr>\n",
              "  </thead>\n",
              "  <tbody>\n",
              "    <tr>\n",
              "      <th>1950-01-31</th>\n",
              "      <td>17.432381</td>\n",
              "    </tr>\n",
              "    <tr>\n",
              "      <th>1950-02-28</th>\n",
              "      <td>17.667647</td>\n",
              "    </tr>\n",
              "    <tr>\n",
              "      <th>1950-03-31</th>\n",
              "      <td>17.646667</td>\n",
              "    </tr>\n",
              "    <tr>\n",
              "      <th>1950-04-30</th>\n",
              "      <td>18.038333</td>\n",
              "    </tr>\n",
              "    <tr>\n",
              "      <th>1950-05-31</th>\n",
              "      <td>18.519500</td>\n",
              "    </tr>\n",
              "  </tbody>\n",
              "</table>\n",
              "</div>"
            ],
            "text/plain": [
              "                Close\n",
              "Date                 \n",
              "1950-01-31  17.432381\n",
              "1950-02-28  17.667647\n",
              "1950-03-31  17.646667\n",
              "1950-04-30  18.038333\n",
              "1950-05-31  18.519500"
            ]
          },
          "metadata": {
            "tags": []
          },
          "execution_count": 22
        }
      ]
    },
    {
      "cell_type": "code",
      "metadata": {
        "colab": {
          "base_uri": "https://localhost:8080/",
          "height": 235
        },
        "id": "RkRfjNQ9JWPr",
        "outputId": "e35c47bf-5a62-4f0a-a9bb-2c5cb5217e8b"
      },
      "source": [
        "#Take a look at the yearly average price\n",
        "\n",
        "sp_year.head()"
      ],
      "execution_count": 23,
      "outputs": [
        {
          "output_type": "execute_result",
          "data": {
            "text/html": [
              "<div>\n",
              "<style scoped>\n",
              "    .dataframe tbody tr th:only-of-type {\n",
              "        vertical-align: middle;\n",
              "    }\n",
              "\n",
              "    .dataframe tbody tr th {\n",
              "        vertical-align: top;\n",
              "    }\n",
              "\n",
              "    .dataframe thead th {\n",
              "        text-align: right;\n",
              "    }\n",
              "</style>\n",
              "<table border=\"1\" class=\"dataframe\">\n",
              "  <thead>\n",
              "    <tr style=\"text-align: right;\">\n",
              "      <th></th>\n",
              "      <th>Close</th>\n",
              "    </tr>\n",
              "    <tr>\n",
              "      <th>Date</th>\n",
              "      <th></th>\n",
              "    </tr>\n",
              "  </thead>\n",
              "  <tbody>\n",
              "    <tr>\n",
              "      <th>1950-12-31</th>\n",
              "      <td>18.397269</td>\n",
              "    </tr>\n",
              "    <tr>\n",
              "      <th>1951-12-31</th>\n",
              "      <td>22.321888</td>\n",
              "    </tr>\n",
              "    <tr>\n",
              "      <th>1952-12-31</th>\n",
              "      <td>24.496160</td>\n",
              "    </tr>\n",
              "    <tr>\n",
              "      <th>1953-12-31</th>\n",
              "      <td>24.722590</td>\n",
              "    </tr>\n",
              "    <tr>\n",
              "      <th>1954-12-31</th>\n",
              "      <td>29.724087</td>\n",
              "    </tr>\n",
              "  </tbody>\n",
              "</table>\n",
              "</div>"
            ],
            "text/plain": [
              "                Close\n",
              "Date                 \n",
              "1950-12-31  18.397269\n",
              "1951-12-31  22.321888\n",
              "1952-12-31  24.496160\n",
              "1953-12-31  24.722590\n",
              "1954-12-31  29.724087"
            ]
          },
          "metadata": {
            "tags": []
          },
          "execution_count": 23
        }
      ]
    },
    {
      "cell_type": "code",
      "metadata": {
        "colab": {
          "base_uri": "https://localhost:8080/",
          "height": 235
        },
        "id": "8yGW7kpFJWYN",
        "outputId": "978b4656-f457-45e2-a6e4-2dbe66c73c70"
      },
      "source": [
        "#S&P 500 closed today Nov. 27, 2020 at 3638.35\n",
        "\n",
        "#What is the monthly return today had one unit been purchased monthly starting at the very first month\n",
        "\n",
        "#that we have data for?\n",
        "\n",
        "\n",
        "tday = 3638.35\n",
        "\n",
        "sp_month['Return'] = (tday - sp_month['Close'])/sp_month['Close']*100\n",
        "\n",
        "sp_month.head()"
      ],
      "execution_count": 24,
      "outputs": [
        {
          "output_type": "execute_result",
          "data": {
            "text/html": [
              "<div>\n",
              "<style scoped>\n",
              "    .dataframe tbody tr th:only-of-type {\n",
              "        vertical-align: middle;\n",
              "    }\n",
              "\n",
              "    .dataframe tbody tr th {\n",
              "        vertical-align: top;\n",
              "    }\n",
              "\n",
              "    .dataframe thead th {\n",
              "        text-align: right;\n",
              "    }\n",
              "</style>\n",
              "<table border=\"1\" class=\"dataframe\">\n",
              "  <thead>\n",
              "    <tr style=\"text-align: right;\">\n",
              "      <th></th>\n",
              "      <th>Close</th>\n",
              "      <th>Return</th>\n",
              "    </tr>\n",
              "    <tr>\n",
              "      <th>Date</th>\n",
              "      <th></th>\n",
              "      <th></th>\n",
              "    </tr>\n",
              "  </thead>\n",
              "  <tbody>\n",
              "    <tr>\n",
              "      <th>1950-01-31</th>\n",
              "      <td>17.432381</td>\n",
              "      <td>20771.216845</td>\n",
              "    </tr>\n",
              "    <tr>\n",
              "      <th>1950-02-28</th>\n",
              "      <td>17.667647</td>\n",
              "      <td>20493.290955</td>\n",
              "    </tr>\n",
              "    <tr>\n",
              "      <th>1950-03-31</th>\n",
              "      <td>17.646667</td>\n",
              "      <td>20517.774596</td>\n",
              "    </tr>\n",
              "    <tr>\n",
              "      <th>1950-04-30</th>\n",
              "      <td>18.038333</td>\n",
              "      <td>20070.100960</td>\n",
              "    </tr>\n",
              "    <tr>\n",
              "      <th>1950-05-31</th>\n",
              "      <td>18.519500</td>\n",
              "      <td>19546.048972</td>\n",
              "    </tr>\n",
              "  </tbody>\n",
              "</table>\n",
              "</div>"
            ],
            "text/plain": [
              "                Close        Return\n",
              "Date                               \n",
              "1950-01-31  17.432381  20771.216845\n",
              "1950-02-28  17.667647  20493.290955\n",
              "1950-03-31  17.646667  20517.774596\n",
              "1950-04-30  18.038333  20070.100960\n",
              "1950-05-31  18.519500  19546.048972"
            ]
          },
          "metadata": {
            "tags": []
          },
          "execution_count": 24
        }
      ]
    },
    {
      "cell_type": "code",
      "metadata": {
        "id": "9ir4HouqJWbK",
        "colab": {
          "base_uri": "https://localhost:8080/",
          "height": 519
        },
        "outputId": "1d60cc80-cf0d-4afa-9672-d517706f165b"
      },
      "source": [
        "#Over the past 50 years period,\n",
        "\n",
        "#here is the return of a single unit of S&P 500 over time as of Nov. 27, 2020.\n",
        "\n",
        "sp_month.iloc[-360:,1].plot()"
      ],
      "execution_count": 25,
      "outputs": [
        {
          "output_type": "execute_result",
          "data": {
            "text/plain": [
              "<matplotlib.axes._subplots.AxesSubplot at 0x7f1a909a9588>"
            ]
          },
          "metadata": {
            "tags": []
          },
          "execution_count": 25
        },
        {
          "output_type": "display_data",
          "data": {
            "image/png": "[encoded data removed]",
            "text/plain": [
              "<Figure size 1008x576 with 1 Axes>"
            ]
          },
          "metadata": {
            "tags": []
          }
        }
      ]
    },
    {
      "cell_type": "code",
      "metadata": {
        "colab": {
          "base_uri": "https://localhost:8080/",
          "height": 535
        },
        "id": "EVfFfyJ1VrNU",
        "outputId": "73c78c07-87d7-4ea8-a59b-1554d6ac2dd2"
      },
      "source": [
        "sp_month['Close'].plot(title='S&P 500 Price')"
      ],
      "execution_count": 26,
      "outputs": [
        {
          "output_type": "execute_result",
          "data": {
            "text/plain": [
              "<matplotlib.axes._subplots.AxesSubplot at 0x7f1a908b8128>"
            ]
          },
          "metadata": {
            "tags": []
          },
          "execution_count": 26
        },
        {
          "output_type": "display_data",
          "data": {
            "image/png": "[encoded data removed]",
            "text/plain": [
              "<Figure size 1008x576 with 1 Axes>"
            ]
          },
          "metadata": {
            "tags": []
          }
        }
      ]
    },
    {
      "cell_type": "code",
      "metadata": {
        "id": "zj0naBB7JWga"
      },
      "source": [
        "#It will be interesting to see how much the five, ten, fifteen, twenty, twenty\n",
        "\n",
        "#five and thirty year returns have changed over time. For this we will use the\n",
        "\n",
        "#yearly average data."
      ],
      "execution_count": 27,
      "outputs": []
    },
    {
      "cell_type": "code",
      "metadata": {
        "id": "b5WnHAS2JWkG"
      },
      "source": [
        "sp_year['5y'] = sp_year['Close'].shift(5)"
      ],
      "execution_count": 28,
      "outputs": []
    },
    {
      "cell_type": "code",
      "metadata": {
        "id": "6YZTqAG_JWpe"
      },
      "source": [
        "sp_year['10y'] = sp_year['Close'].shift(10)\n",
        "\n",
        "sp_year['15y'] = sp_year['Close'].shift(15)\n",
        "\n",
        "sp_year['20y'] = sp_year['Close'].shift(20)\n",
        "\n",
        "sp_year['25y'] = sp_year['Close'].shift(25)"
      ],
      "execution_count": 29,
      "outputs": []
    },
    {
      "cell_type": "code",
      "metadata": {
        "id": "N_43j3HIJW1a"
      },
      "source": [
        "#Create a new dataframe to calculate the five year returns over time\n",
        "\n",
        "fiveyearreturn = sp_year[['Close','5y']].dropna()\n",
        "\n",
        "fiveyearreturn['Return'] = (fiveyearreturn['Close'] - fiveyearreturn['5y'])/fiveyearreturn['5y']*100"
      ],
      "execution_count": 30,
      "outputs": []
    },
    {
      "cell_type": "code",
      "metadata": {
        "colab": {
          "base_uri": "https://localhost:8080/",
          "height": 235
        },
        "id": "U5dnzFBkOul-",
        "outputId": "a0853b37-b5c0-49ec-c65c-902af7d15d82"
      },
      "source": [
        "fiveyearreturn.head()"
      ],
      "execution_count": 31,
      "outputs": [
        {
          "output_type": "execute_result",
          "data": {
            "text/html": [
              "<div>\n",
              "<style scoped>\n",
              "    .dataframe tbody tr th:only-of-type {\n",
              "        vertical-align: middle;\n",
              "    }\n",
              "\n",
              "    .dataframe tbody tr th {\n",
              "        vertical-align: top;\n",
              "    }\n",
              "\n",
              "    .dataframe thead th {\n",
              "        text-align: right;\n",
              "    }\n",
              "</style>\n",
              "<table border=\"1\" class=\"dataframe\">\n",
              "  <thead>\n",
              "    <tr style=\"text-align: right;\">\n",
              "      <th></th>\n",
              "      <th>Close</th>\n",
              "      <th>5y</th>\n",
              "      <th>Return</th>\n",
              "    </tr>\n",
              "    <tr>\n",
              "      <th>Date</th>\n",
              "      <th></th>\n",
              "      <th></th>\n",
              "      <th></th>\n",
              "    </tr>\n",
              "  </thead>\n",
              "  <tbody>\n",
              "    <tr>\n",
              "      <th>1955-12-31</th>\n",
              "      <td>40.498849</td>\n",
              "      <td>18.397269</td>\n",
              "      <td>120.135113</td>\n",
              "    </tr>\n",
              "    <tr>\n",
              "      <th>1956-12-31</th>\n",
              "      <td>46.639522</td>\n",
              "      <td>22.321888</td>\n",
              "      <td>108.940762</td>\n",
              "    </tr>\n",
              "    <tr>\n",
              "      <th>1957-12-31</th>\n",
              "      <td>44.423373</td>\n",
              "      <td>24.496160</td>\n",
              "      <td>81.348313</td>\n",
              "    </tr>\n",
              "    <tr>\n",
              "      <th>1958-12-31</th>\n",
              "      <td>46.203452</td>\n",
              "      <td>24.722590</td>\n",
              "      <td>86.887591</td>\n",
              "    </tr>\n",
              "    <tr>\n",
              "      <th>1959-12-31</th>\n",
              "      <td>57.418182</td>\n",
              "      <td>29.724087</td>\n",
              "      <td>93.170546</td>\n",
              "    </tr>\n",
              "  </tbody>\n",
              "</table>\n",
              "</div>"
            ],
            "text/plain": [
              "                Close         5y      Return\n",
              "Date                                        \n",
              "1955-12-31  40.498849  18.397269  120.135113\n",
              "1956-12-31  46.639522  22.321888  108.940762\n",
              "1957-12-31  44.423373  24.496160   81.348313\n",
              "1958-12-31  46.203452  24.722590   86.887591\n",
              "1959-12-31  57.418182  29.724087   93.170546"
            ]
          },
          "metadata": {
            "tags": []
          },
          "execution_count": 31
        }
      ]
    },
    {
      "cell_type": "code",
      "metadata": {
        "colab": {
          "base_uri": "https://localhost:8080/",
          "height": 394
        },
        "id": "XN5YgaC0Ouv7",
        "outputId": "33d0a91e-46e8-4eb0-d9c7-591dd10da45c"
      },
      "source": [
        "#Create a boxplot and a kde plot of 5 year returns\n",
        "#The vast majority of the 5 year returns are above zero, which means that more often than not,\n",
        "#it is hard to lose money in the market if held over a 5 year period.\n",
        "#Although there are some years with negative returns.\n",
        "#So had the index been purchased during some months, you could still be in the red after 5 years!\n",
        "\n",
        "plt.figure(figsize=(12,6))\n",
        "\n",
        "ax = plt.subplot(121)\n",
        "\n",
        "fiveyearreturn['Return'].plot(kind='box')\n",
        "\n",
        "ax = plt.subplot(122)\n",
        "\n",
        "fiveyearreturn['Return'].plot(kind='kde')"
      ],
      "execution_count": 32,
      "outputs": [
        {
          "output_type": "execute_result",
          "data": {
            "text/plain": [
              "<matplotlib.axes._subplots.AxesSubplot at 0x7f1a903b0630>"
            ]
          },
          "metadata": {
            "tags": []
          },
          "execution_count": 32
        },
        {
          "output_type": "display_data",
          "data": {
            "image/png": "[encoded data removed]",
            "text/plain": [
              "<Figure size 864x432 with 2 Axes>"
            ]
          },
          "metadata": {
            "tags": []
          }
        }
      ]
    },
    {
      "cell_type": "code",
      "metadata": {
        "id": "CofFDySAOu2v"
      },
      "source": [
        "#Create a new dataframe to calculate the ten year returns over time\n",
        "\n",
        "tenyearreturn = sp_year[['Close','10y']].dropna()\n",
        "\n",
        "tenyearreturn['Return'] = (tenyearreturn['Close'] - tenyearreturn['10y'])/tenyearreturn['10y']*100"
      ],
      "execution_count": 33,
      "outputs": []
    },
    {
      "cell_type": "code",
      "metadata": {
        "colab": {
          "base_uri": "https://localhost:8080/",
          "height": 235
        },
        "id": "yC7qGF1MOu5T",
        "outputId": "74357cfe-f9cf-4a6f-909c-9858235c4dd5"
      },
      "source": [
        "tenyearreturn.head()"
      ],
      "execution_count": 34,
      "outputs": [
        {
          "output_type": "execute_result",
          "data": {
            "text/html": [
              "<div>\n",
              "<style scoped>\n",
              "    .dataframe tbody tr th:only-of-type {\n",
              "        vertical-align: middle;\n",
              "    }\n",
              "\n",
              "    .dataframe tbody tr th {\n",
              "        vertical-align: top;\n",
              "    }\n",
              "\n",
              "    .dataframe thead th {\n",
              "        text-align: right;\n",
              "    }\n",
              "</style>\n",
              "<table border=\"1\" class=\"dataframe\">\n",
              "  <thead>\n",
              "    <tr style=\"text-align: right;\">\n",
              "      <th></th>\n",
              "      <th>Close</th>\n",
              "      <th>10y</th>\n",
              "      <th>Return</th>\n",
              "    </tr>\n",
              "    <tr>\n",
              "      <th>Date</th>\n",
              "      <th></th>\n",
              "      <th></th>\n",
              "      <th></th>\n",
              "    </tr>\n",
              "  </thead>\n",
              "  <tbody>\n",
              "    <tr>\n",
              "      <th>1960-12-31</th>\n",
              "      <td>55.845754</td>\n",
              "      <td>18.397269</td>\n",
              "      <td>203.554585</td>\n",
              "    </tr>\n",
              "    <tr>\n",
              "      <th>1961-12-31</th>\n",
              "      <td>66.266320</td>\n",
              "      <td>22.321888</td>\n",
              "      <td>196.867009</td>\n",
              "    </tr>\n",
              "    <tr>\n",
              "      <th>1962-12-31</th>\n",
              "      <td>62.320754</td>\n",
              "      <td>24.496160</td>\n",
              "      <td>154.410298</td>\n",
              "    </tr>\n",
              "    <tr>\n",
              "      <th>1963-12-31</th>\n",
              "      <td>69.859362</td>\n",
              "      <td>24.722590</td>\n",
              "      <td>182.572996</td>\n",
              "    </tr>\n",
              "    <tr>\n",
              "      <th>1964-12-31</th>\n",
              "      <td>81.372885</td>\n",
              "      <td>29.724087</td>\n",
              "      <td>173.760753</td>\n",
              "    </tr>\n",
              "  </tbody>\n",
              "</table>\n",
              "</div>"
            ],
            "text/plain": [
              "                Close        10y      Return\n",
              "Date                                        \n",
              "1960-12-31  55.845754  18.397269  203.554585\n",
              "1961-12-31  66.266320  22.321888  196.867009\n",
              "1962-12-31  62.320754  24.496160  154.410298\n",
              "1963-12-31  69.859362  24.722590  182.572996\n",
              "1964-12-31  81.372885  29.724087  173.760753"
            ]
          },
          "metadata": {
            "tags": []
          },
          "execution_count": 34
        }
      ]
    },
    {
      "cell_type": "code",
      "metadata": {
        "colab": {
          "base_uri": "https://localhost:8080/",
          "height": 394
        },
        "id": "ujvUO5QGOu8f",
        "outputId": "72e554ec-fc44-4557-dc7a-426840e70e3e"
      },
      "source": [
        "#A look at the 10 year returns shows that holding S&P 500 index over 10\n",
        "\n",
        "#years shows a largely positive returns,with a median return of 85%.\n",
        "\n",
        "#Vast majority of the returns were over 100%.\n",
        "\n",
        "#In some years the returns were above 300% while in others it may have been below 0%!\n",
        "\n",
        "plt.figure(figsize=(12,6))\n",
        "\n",
        "ax = plt.subplot(121)\n",
        "\n",
        "tenyearreturn['Return'].plot(kind='box')\n",
        "\n",
        "ax = plt.subplot(122)\n",
        "\n",
        "tenyearreturn['Return'].plot(kind='kde')"
      ],
      "execution_count": 35,
      "outputs": [
        {
          "output_type": "execute_result",
          "data": {
            "text/plain": [
              "<matplotlib.axes._subplots.AxesSubplot at 0x7f1a8e2e6a20>"
            ]
          },
          "metadata": {
            "tags": []
          },
          "execution_count": 35
        },
        {
          "output_type": "display_data",
          "data": {
            "image/png": "[encoded data removed]",
            "text/plain": [
              "<Figure size 864x432 with 2 Axes>"
            ]
          },
          "metadata": {
            "tags": []
          }
        }
      ]
    },
    {
      "cell_type": "code",
      "metadata": {
        "id": "JSprEeP5Tfs8"
      },
      "source": [
        "#same for 15, 20,25 years\n",
        "\n",
        "Fifteenyearreturn = sp_year[['Close','15y']].dropna()\n",
        "\n",
        "Fifteenyearreturn['Return'] = (Fifteenyearreturn['Close'] - Fifteenyearreturn['15y'])/Fifteenyearreturn['15y']*100\n",
        "\n",
        "twentyyearreturn = sp_year[['Close','20y']].dropna()\n",
        "\n",
        "twentyyearreturn['Return'] = (twentyyearreturn['Close'] - twentyyearreturn['20y'])/twentyyearreturn['20y']*100\n",
        "\n",
        "tfiveyearreturn = sp_year[['Close','25y']].dropna()\n",
        "\n",
        "tfiveyearreturn['Return'] = (tfiveyearreturn['Close'] - tfiveyearreturn['25y'])/tfiveyearreturn['25y']*100\n",
        "                            "
      ],
      "execution_count": 36,
      "outputs": []
    },
    {
      "cell_type": "code",
      "metadata": {
        "id": "Sjc4FqTUTfvw"
      },
      "source": [
        "combinedreturn = pd.concat([tenyearreturn['Return'], \n",
        "          Fifteenyearreturn['Return'], twentyyearreturn['Return'], \n",
        "          tfiveyearreturn['Return']],axis=1, keys=['10y', '15y', '20y', '25y'])"
      ],
      "execution_count": 37,
      "outputs": []
    },
    {
      "cell_type": "code",
      "metadata": {
        "colab": {
          "base_uri": "https://localhost:8080/",
          "height": 482
        },
        "id": "u2AL9JD8Tfzf",
        "outputId": "08c48a00-aed0-4fa1-fb94-44aff24b5318"
      },
      "source": [
        "combinedreturn.plot(kind='box', figsize=(8,6))"
      ],
      "execution_count": 38,
      "outputs": [
        {
          "output_type": "stream",
          "text": [
            "/usr/local/lib/python3.6/dist-packages/numpy/core/_asarray.py:83: VisibleDeprecationWarning:\n",
            "\n",
            "Creating an ndarray from ragged nested sequences (which is a list-or-tuple of lists-or-tuples-or ndarrays with different lengths or shapes) is deprecated. If you meant to do this, you must specify 'dtype=object' when creating the ndarray\n",
            "\n"
          ],
          "name": "stderr"
        },
        {
          "output_type": "execute_result",
          "data": {
            "text/plain": [
              "<matplotlib.axes._subplots.AxesSubplot at 0x7f1a8e229b70>"
            ]
          },
          "metadata": {
            "tags": []
          },
          "execution_count": 38
        },
        {
          "output_type": "display_data",
          "data": {
            "image/png": "[encoded data removed]",
            "text/plain": [
              "<Figure size 576x432 with 1 Axes>"
            ]
          },
          "metadata": {
            "tags": []
          }
        }
      ]
    },
    {
      "cell_type": "code",
      "metadata": {
        "id": "4JHMQn5UGREv"
      },
      "source": [
        "#Correlation test"
      ],
      "execution_count": 39,
      "outputs": []
    },
    {
      "cell_type": "code",
      "metadata": {
        "colab": {
          "base_uri": "https://localhost:8080/",
          "height": 204
        },
        "id": "LjOfo7ma1QgR",
        "outputId": "0854ae66-cd29-4183-e094-7ead252245cd"
      },
      "source": [
        "DJ=pd.read_csv(\"DJ.csv\")\n",
        "\n",
        "DJ['Date'] = DJ.loc[:,'Date'].astype('datetime64[ns]')\n",
        "\n",
        "DJ.head()"
      ],
      "execution_count": 40,
      "outputs": [
        {
          "output_type": "execute_result",
          "data": {
            "text/html": [
              "<div>\n",
              "<style scoped>\n",
              "    .dataframe tbody tr th:only-of-type {\n",
              "        vertical-align: middle;\n",
              "    }\n",
              "\n",
              "    .dataframe tbody tr th {\n",
              "        vertical-align: top;\n",
              "    }\n",
              "\n",
              "    .dataframe thead th {\n",
              "        text-align: right;\n",
              "    }\n",
              "</style>\n",
              "<table border=\"1\" class=\"dataframe\">\n",
              "  <thead>\n",
              "    <tr style=\"text-align: right;\">\n",
              "      <th></th>\n",
              "      <th>Date</th>\n",
              "      <th>Open</th>\n",
              "      <th>High</th>\n",
              "      <th>Low</th>\n",
              "      <th>Close</th>\n",
              "      <th>Volume</th>\n",
              "    </tr>\n",
              "  </thead>\n",
              "  <tbody>\n",
              "    <tr>\n",
              "      <th>0</th>\n",
              "      <td>2010-04-01</td>\n",
              "      <td>10430.69043</td>\n",
              "      <td>10604.96973</td>\n",
              "      <td>10430.69043</td>\n",
              "      <td>10583.95996</td>\n",
              "      <td>179780000</td>\n",
              "    </tr>\n",
              "    <tr>\n",
              "      <th>1</th>\n",
              "      <td>2010-05-01</td>\n",
              "      <td>10584.55957</td>\n",
              "      <td>10584.55957</td>\n",
              "      <td>10522.51953</td>\n",
              "      <td>10572.01953</td>\n",
              "      <td>188540000</td>\n",
              "    </tr>\n",
              "    <tr>\n",
              "      <th>2</th>\n",
              "      <td>2010-06-01</td>\n",
              "      <td>10564.71973</td>\n",
              "      <td>10594.99023</td>\n",
              "      <td>10546.54981</td>\n",
              "      <td>10573.67969</td>\n",
              "      <td>186040000</td>\n",
              "    </tr>\n",
              "    <tr>\n",
              "      <th>3</th>\n",
              "      <td>2010-07-01</td>\n",
              "      <td>10571.11035</td>\n",
              "      <td>10612.37012</td>\n",
              "      <td>10505.20996</td>\n",
              "      <td>10606.86035</td>\n",
              "      <td>217390000</td>\n",
              "    </tr>\n",
              "    <tr>\n",
              "      <th>4</th>\n",
              "      <td>2010-08-01</td>\n",
              "      <td>10606.40039</td>\n",
              "      <td>10619.40039</td>\n",
              "      <td>10554.33008</td>\n",
              "      <td>10618.19043</td>\n",
              "      <td>172710000</td>\n",
              "    </tr>\n",
              "  </tbody>\n",
              "</table>\n",
              "</div>"
            ],
            "text/plain": [
              "        Date         Open         High          Low        Close     Volume\n",
              "0 2010-04-01  10430.69043  10604.96973  10430.69043  10583.95996  179780000\n",
              "1 2010-05-01  10584.55957  10584.55957  10522.51953  10572.01953  188540000\n",
              "2 2010-06-01  10564.71973  10594.99023  10546.54981  10573.67969  186040000\n",
              "3 2010-07-01  10571.11035  10612.37012  10505.20996  10606.86035  217390000\n",
              "4 2010-08-01  10606.40039  10619.40039  10554.33008  10618.19043  172710000"
            ]
          },
          "metadata": {
            "tags": []
          },
          "execution_count": 40
        }
      ]
    },
    {
      "cell_type": "code",
      "metadata": {
        "colab": {
          "base_uri": "https://localhost:8080/",
          "height": 204
        },
        "id": "-FqoBcjy0Zql",
        "outputId": "a40356f9-e205-4f45-de2a-61f3f6056e7e"
      },
      "source": [
        "DJ['year'] = DJ['Date'].dt.year\n",
        "\n",
        "DJ.head()"
      ],
      "execution_count": 41,
      "outputs": [
        {
          "output_type": "execute_result",
          "data": {
            "text/html": [
              "<div>\n",
              "<style scoped>\n",
              "    .dataframe tbody tr th:only-of-type {\n",
              "        vertical-align: middle;\n",
              "    }\n",
              "\n",
              "    .dataframe tbody tr th {\n",
              "        vertical-align: top;\n",
              "    }\n",
              "\n",
              "    .dataframe thead th {\n",
              "        text-align: right;\n",
              "    }\n",
              "</style>\n",
              "<table border=\"1\" class=\"dataframe\">\n",
              "  <thead>\n",
              "    <tr style=\"text-align: right;\">\n",
              "      <th></th>\n",
              "      <th>Date</th>\n",
              "      <th>Open</th>\n",
              "      <th>High</th>\n",
              "      <th>Low</th>\n",
              "      <th>Close</th>\n",
              "      <th>Volume</th>\n",
              "      <th>year</th>\n",
              "    </tr>\n",
              "  </thead>\n",
              "  <tbody>\n",
              "    <tr>\n",
              "      <th>0</th>\n",
              "      <td>2010-04-01</td>\n",
              "      <td>10430.69043</td>\n",
              "      <td>10604.96973</td>\n",
              "      <td>10430.69043</td>\n",
              "      <td>10583.95996</td>\n",
              "      <td>179780000</td>\n",
              "      <td>2010</td>\n",
              "    </tr>\n",
              "    <tr>\n",
              "      <th>1</th>\n",
              "      <td>2010-05-01</td>\n",
              "      <td>10584.55957</td>\n",
              "      <td>10584.55957</td>\n",
              "      <td>10522.51953</td>\n",
              "      <td>10572.01953</td>\n",
              "      <td>188540000</td>\n",
              "      <td>2010</td>\n",
              "    </tr>\n",
              "    <tr>\n",
              "      <th>2</th>\n",
              "      <td>2010-06-01</td>\n",
              "      <td>10564.71973</td>\n",
              "      <td>10594.99023</td>\n",
              "      <td>10546.54981</td>\n",
              "      <td>10573.67969</td>\n",
              "      <td>186040000</td>\n",
              "      <td>2010</td>\n",
              "    </tr>\n",
              "    <tr>\n",
              "      <th>3</th>\n",
              "      <td>2010-07-01</td>\n",
              "      <td>10571.11035</td>\n",
              "      <td>10612.37012</td>\n",
              "      <td>10505.20996</td>\n",
              "      <td>10606.86035</td>\n",
              "      <td>217390000</td>\n",
              "      <td>2010</td>\n",
              "    </tr>\n",
              "    <tr>\n",
              "      <th>4</th>\n",
              "      <td>2010-08-01</td>\n",
              "      <td>10606.40039</td>\n",
              "      <td>10619.40039</td>\n",
              "      <td>10554.33008</td>\n",
              "      <td>10618.19043</td>\n",
              "      <td>172710000</td>\n",
              "      <td>2010</td>\n",
              "    </tr>\n",
              "  </tbody>\n",
              "</table>\n",
              "</div>"
            ],
            "text/plain": [
              "        Date         Open         High  ...        Close     Volume  year\n",
              "0 2010-04-01  10430.69043  10604.96973  ...  10583.95996  179780000  2010\n",
              "1 2010-05-01  10584.55957  10584.55957  ...  10572.01953  188540000  2010\n",
              "2 2010-06-01  10564.71973  10594.99023  ...  10573.67969  186040000  2010\n",
              "3 2010-07-01  10571.11035  10612.37012  ...  10606.86035  217390000  2010\n",
              "4 2010-08-01  10606.40039  10619.40039  ...  10618.19043  172710000  2010\n",
              "\n",
              "[5 rows x 7 columns]"
            ]
          },
          "metadata": {
            "tags": []
          },
          "execution_count": 41
        }
      ]
    },
    {
      "cell_type": "code",
      "metadata": {
        "colab": {
          "base_uri": "https://localhost:8080/",
          "height": 204
        },
        "id": "GobWcywYylM0",
        "outputId": "101b6116-b01c-463b-8b22-350d0bd176ce"
      },
      "source": [
        "#Deletion of all years up to 2010 from the s & p index\n",
        "\n",
        "sp.drop(sp[sp['year'] < 2010].index, inplace = True) \n",
        "\n",
        "sp.head()"
      ],
      "execution_count": 42,
      "outputs": [
        {
          "output_type": "execute_result",
          "data": {
            "text/html": [
              "<div>\n",
              "<style scoped>\n",
              "    .dataframe tbody tr th:only-of-type {\n",
              "        vertical-align: middle;\n",
              "    }\n",
              "\n",
              "    .dataframe tbody tr th {\n",
              "        vertical-align: top;\n",
              "    }\n",
              "\n",
              "    .dataframe thead th {\n",
              "        text-align: right;\n",
              "    }\n",
              "</style>\n",
              "<table border=\"1\" class=\"dataframe\">\n",
              "  <thead>\n",
              "    <tr style=\"text-align: right;\">\n",
              "      <th></th>\n",
              "      <th>Date</th>\n",
              "      <th>Open</th>\n",
              "      <th>High</th>\n",
              "      <th>Low</th>\n",
              "      <th>Close</th>\n",
              "      <th>Volume</th>\n",
              "      <th>year</th>\n",
              "    </tr>\n",
              "  </thead>\n",
              "  <tbody>\n",
              "    <tr>\n",
              "      <th>20593</th>\n",
              "      <td>2010-04-01</td>\n",
              "      <td>1116.560059</td>\n",
              "      <td>1133.869995</td>\n",
              "      <td>1116.560059</td>\n",
              "      <td>1132.989990</td>\n",
              "      <td>3991400000</td>\n",
              "      <td>2010</td>\n",
              "    </tr>\n",
              "    <tr>\n",
              "      <th>20594</th>\n",
              "      <td>2010-05-01</td>\n",
              "      <td>1132.660034</td>\n",
              "      <td>1136.630005</td>\n",
              "      <td>1129.660034</td>\n",
              "      <td>1136.520020</td>\n",
              "      <td>2491020000</td>\n",
              "      <td>2010</td>\n",
              "    </tr>\n",
              "    <tr>\n",
              "      <th>20595</th>\n",
              "      <td>2010-06-01</td>\n",
              "      <td>1135.709961</td>\n",
              "      <td>1139.189941</td>\n",
              "      <td>1133.949951</td>\n",
              "      <td>1137.140015</td>\n",
              "      <td>4972660000</td>\n",
              "      <td>2010</td>\n",
              "    </tr>\n",
              "    <tr>\n",
              "      <th>20596</th>\n",
              "      <td>2010-07-01</td>\n",
              "      <td>1136.270020</td>\n",
              "      <td>1142.459961</td>\n",
              "      <td>1131.319946</td>\n",
              "      <td>1141.689941</td>\n",
              "      <td>5270680000</td>\n",
              "      <td>2010</td>\n",
              "    </tr>\n",
              "    <tr>\n",
              "      <th>20597</th>\n",
              "      <td>2010-08-01</td>\n",
              "      <td>1140.520020</td>\n",
              "      <td>1145.390015</td>\n",
              "      <td>1136.219971</td>\n",
              "      <td>1144.979980</td>\n",
              "      <td>4389590000</td>\n",
              "      <td>2010</td>\n",
              "    </tr>\n",
              "  </tbody>\n",
              "</table>\n",
              "</div>"
            ],
            "text/plain": [
              "            Date         Open         High  ...        Close      Volume  year\n",
              "20593 2010-04-01  1116.560059  1133.869995  ...  1132.989990  3991400000  2010\n",
              "20594 2010-05-01  1132.660034  1136.630005  ...  1136.520020  2491020000  2010\n",
              "20595 2010-06-01  1135.709961  1139.189941  ...  1137.140015  4972660000  2010\n",
              "20596 2010-07-01  1136.270020  1142.459961  ...  1141.689941  5270680000  2010\n",
              "20597 2010-08-01  1140.520020  1145.390015  ...  1144.979980  4389590000  2010\n",
              "\n",
              "[5 rows x 7 columns]"
            ]
          },
          "metadata": {
            "tags": []
          },
          "execution_count": 42
        }
      ]
    },
    {
      "cell_type": "code",
      "metadata": {
        "colab": {
          "base_uri": "https://localhost:8080/",
          "height": 235
        },
        "id": "Z-x2TGJpzIuU",
        "outputId": "ffb25150-3764-449e-9923-e5abb4adee87"
      },
      "source": [
        "# Define a new table where only the closing prices of the index\n",
        "\n",
        "sp_price = sp[[\"Date\", \"Close\"]]\n",
        "\n",
        "sp_price = sp_price.set_index('Date')\n",
        "\n",
        "sp_price.head()"
      ],
      "execution_count": 43,
      "outputs": [
        {
          "output_type": "execute_result",
          "data": {
            "text/html": [
              "<div>\n",
              "<style scoped>\n",
              "    .dataframe tbody tr th:only-of-type {\n",
              "        vertical-align: middle;\n",
              "    }\n",
              "\n",
              "    .dataframe tbody tr th {\n",
              "        vertical-align: top;\n",
              "    }\n",
              "\n",
              "    .dataframe thead th {\n",
              "        text-align: right;\n",
              "    }\n",
              "</style>\n",
              "<table border=\"1\" class=\"dataframe\">\n",
              "  <thead>\n",
              "    <tr style=\"text-align: right;\">\n",
              "      <th></th>\n",
              "      <th>Close</th>\n",
              "    </tr>\n",
              "    <tr>\n",
              "      <th>Date</th>\n",
              "      <th></th>\n",
              "    </tr>\n",
              "  </thead>\n",
              "  <tbody>\n",
              "    <tr>\n",
              "      <th>2010-04-01</th>\n",
              "      <td>1132.989990</td>\n",
              "    </tr>\n",
              "    <tr>\n",
              "      <th>2010-05-01</th>\n",
              "      <td>1136.520020</td>\n",
              "    </tr>\n",
              "    <tr>\n",
              "      <th>2010-06-01</th>\n",
              "      <td>1137.140015</td>\n",
              "    </tr>\n",
              "    <tr>\n",
              "      <th>2010-07-01</th>\n",
              "      <td>1141.689941</td>\n",
              "    </tr>\n",
              "    <tr>\n",
              "      <th>2010-08-01</th>\n",
              "      <td>1144.979980</td>\n",
              "    </tr>\n",
              "  </tbody>\n",
              "</table>\n",
              "</div>"
            ],
            "text/plain": [
              "                  Close\n",
              "Date                   \n",
              "2010-04-01  1132.989990\n",
              "2010-05-01  1136.520020\n",
              "2010-06-01  1137.140015\n",
              "2010-07-01  1141.689941\n",
              "2010-08-01  1144.979980"
            ]
          },
          "metadata": {
            "tags": []
          },
          "execution_count": 43
        }
      ]
    },
    {
      "cell_type": "code",
      "metadata": {
        "id": "7lpbN04RiadK"
      },
      "source": [
        "sp_price = sp_price.sort_index()"
      ],
      "execution_count": 44,
      "outputs": []
    },
    {
      "cell_type": "code",
      "metadata": {
        "colab": {
          "base_uri": "https://localhost:8080/",
          "height": 235
        },
        "id": "aU6FbtkTiF60",
        "outputId": "f601999e-faf4-43a9-9a88-2c8a19cb0993"
      },
      "source": [
        "# Make the data a monthly basis\n",
        "\n",
        "sp_price_mothly = sp_price.resample('M').mean()\n",
        "\n",
        "sp_price_mothly.head()"
      ],
      "execution_count": 45,
      "outputs": [
        {
          "output_type": "execute_result",
          "data": {
            "text/html": [
              "<div>\n",
              "<style scoped>\n",
              "    .dataframe tbody tr th:only-of-type {\n",
              "        vertical-align: middle;\n",
              "    }\n",
              "\n",
              "    .dataframe tbody tr th {\n",
              "        vertical-align: top;\n",
              "    }\n",
              "\n",
              "    .dataframe thead th {\n",
              "        text-align: right;\n",
              "    }\n",
              "</style>\n",
              "<table border=\"1\" class=\"dataframe\">\n",
              "  <thead>\n",
              "    <tr style=\"text-align: right;\">\n",
              "      <th></th>\n",
              "      <th>Close</th>\n",
              "    </tr>\n",
              "    <tr>\n",
              "      <th>Date</th>\n",
              "      <th></th>\n",
              "    </tr>\n",
              "  </thead>\n",
              "  <tbody>\n",
              "    <tr>\n",
              "      <th>2010-01-31</th>\n",
              "      <td>1117.599522</td>\n",
              "    </tr>\n",
              "    <tr>\n",
              "      <th>2010-02-28</th>\n",
              "      <td>1111.719407</td>\n",
              "    </tr>\n",
              "    <tr>\n",
              "      <th>2010-03-31</th>\n",
              "      <td>1158.411900</td>\n",
              "    </tr>\n",
              "    <tr>\n",
              "      <th>2010-04-30</th>\n",
              "      <td>1175.990917</td>\n",
              "    </tr>\n",
              "    <tr>\n",
              "      <th>2010-05-31</th>\n",
              "      <td>1122.020996</td>\n",
              "    </tr>\n",
              "  </tbody>\n",
              "</table>\n",
              "</div>"
            ],
            "text/plain": [
              "                  Close\n",
              "Date                   \n",
              "2010-01-31  1117.599522\n",
              "2010-02-28  1111.719407\n",
              "2010-03-31  1158.411900\n",
              "2010-04-30  1175.990917\n",
              "2010-05-31  1122.020996"
            ]
          },
          "metadata": {
            "tags": []
          },
          "execution_count": 45
        }
      ]
    },
    {
      "cell_type": "code",
      "metadata": {
        "colab": {
          "base_uri": "https://localhost:8080/",
          "height": 235
        },
        "id": "8jjWJ9ex6Cji",
        "outputId": "78402e28-8b9e-453b-fafe-1ee7d391b25a"
      },
      "source": [
        "# Define a new table where only the closing prices of the index\n",
        "\n",
        "DJ_price = DJ[[\"Date\", \"Close\"]]\n",
        "\n",
        "DJ_price = DJ_price.set_index('Date')\n",
        "\n",
        "DJ_price.head()"
      ],
      "execution_count": 46,
      "outputs": [
        {
          "output_type": "execute_result",
          "data": {
            "text/html": [
              "<div>\n",
              "<style scoped>\n",
              "    .dataframe tbody tr th:only-of-type {\n",
              "        vertical-align: middle;\n",
              "    }\n",
              "\n",
              "    .dataframe tbody tr th {\n",
              "        vertical-align: top;\n",
              "    }\n",
              "\n",
              "    .dataframe thead th {\n",
              "        text-align: right;\n",
              "    }\n",
              "</style>\n",
              "<table border=\"1\" class=\"dataframe\">\n",
              "  <thead>\n",
              "    <tr style=\"text-align: right;\">\n",
              "      <th></th>\n",
              "      <th>Close</th>\n",
              "    </tr>\n",
              "    <tr>\n",
              "      <th>Date</th>\n",
              "      <th></th>\n",
              "    </tr>\n",
              "  </thead>\n",
              "  <tbody>\n",
              "    <tr>\n",
              "      <th>2010-04-01</th>\n",
              "      <td>10583.95996</td>\n",
              "    </tr>\n",
              "    <tr>\n",
              "      <th>2010-05-01</th>\n",
              "      <td>10572.01953</td>\n",
              "    </tr>\n",
              "    <tr>\n",
              "      <th>2010-06-01</th>\n",
              "      <td>10573.67969</td>\n",
              "    </tr>\n",
              "    <tr>\n",
              "      <th>2010-07-01</th>\n",
              "      <td>10606.86035</td>\n",
              "    </tr>\n",
              "    <tr>\n",
              "      <th>2010-08-01</th>\n",
              "      <td>10618.19043</td>\n",
              "    </tr>\n",
              "  </tbody>\n",
              "</table>\n",
              "</div>"
            ],
            "text/plain": [
              "                  Close\n",
              "Date                   \n",
              "2010-04-01  10583.95996\n",
              "2010-05-01  10572.01953\n",
              "2010-06-01  10573.67969\n",
              "2010-07-01  10606.86035\n",
              "2010-08-01  10618.19043"
            ]
          },
          "metadata": {
            "tags": []
          },
          "execution_count": 46
        }
      ]
    },
    {
      "cell_type": "code",
      "metadata": {
        "colab": {
          "base_uri": "https://localhost:8080/",
          "height": 235
        },
        "id": "Ltx_2gUIjHwT",
        "outputId": "d2429f73-8581-41e9-9e02-0456dc71b093"
      },
      "source": [
        "# Make the data a monthly basis\n",
        "\n",
        "DJ_price_mothly = DJ_price.resample('M').mean()\n",
        "\n",
        "DJ_price_mothly.head()"
      ],
      "execution_count": 47,
      "outputs": [
        {
          "output_type": "execute_result",
          "data": {
            "text/html": [
              "<div>\n",
              "<style scoped>\n",
              "    .dataframe tbody tr th:only-of-type {\n",
              "        vertical-align: middle;\n",
              "    }\n",
              "\n",
              "    .dataframe tbody tr th {\n",
              "        vertical-align: top;\n",
              "    }\n",
              "\n",
              "    .dataframe thead th {\n",
              "        text-align: right;\n",
              "    }\n",
              "</style>\n",
              "<table border=\"1\" class=\"dataframe\">\n",
              "  <thead>\n",
              "    <tr style=\"text-align: right;\">\n",
              "      <th></th>\n",
              "      <th>Close</th>\n",
              "    </tr>\n",
              "    <tr>\n",
              "      <th>Date</th>\n",
              "      <th></th>\n",
              "    </tr>\n",
              "  </thead>\n",
              "  <tbody>\n",
              "    <tr>\n",
              "      <th>2010-01-31</th>\n",
              "      <td>10450.476237</td>\n",
              "    </tr>\n",
              "    <tr>\n",
              "      <th>2010-02-28</th>\n",
              "      <td>10426.117648</td>\n",
              "    </tr>\n",
              "    <tr>\n",
              "      <th>2010-03-31</th>\n",
              "      <td>10771.488141</td>\n",
              "    </tr>\n",
              "    <tr>\n",
              "      <th>2010-04-30</th>\n",
              "      <td>10916.006303</td>\n",
              "    </tr>\n",
              "    <tr>\n",
              "      <th>2010-05-31</th>\n",
              "      <td>10489.033058</td>\n",
              "    </tr>\n",
              "  </tbody>\n",
              "</table>\n",
              "</div>"
            ],
            "text/plain": [
              "                   Close\n",
              "Date                    \n",
              "2010-01-31  10450.476237\n",
              "2010-02-28  10426.117648\n",
              "2010-03-31  10771.488141\n",
              "2010-04-30  10916.006303\n",
              "2010-05-31  10489.033058"
            ]
          },
          "metadata": {
            "tags": []
          },
          "execution_count": 47
        }
      ]
    },
    {
      "cell_type": "code",
      "metadata": {
        "colab": {
          "base_uri": "https://localhost:8080/",
          "height": 235
        },
        "id": "AVYd9kJZ6OvH",
        "outputId": "2206d24a-00ae-4a5e-d9c0-585f30b49854"
      },
      "source": [
        "# Define a new table in which only the closing prices of the two indices\n",
        "\n",
        "closing_prices=pd.merge(sp_price_mothly, DJ_price_mothly, on=\"Date\",suffixes=(' S&P 500', ' DJ'))\n",
        "\n",
        "closing_prices.head()"
      ],
      "execution_count": 48,
      "outputs": [
        {
          "output_type": "execute_result",
          "data": {
            "text/html": [
              "<div>\n",
              "<style scoped>\n",
              "    .dataframe tbody tr th:only-of-type {\n",
              "        vertical-align: middle;\n",
              "    }\n",
              "\n",
              "    .dataframe tbody tr th {\n",
              "        vertical-align: top;\n",
              "    }\n",
              "\n",
              "    .dataframe thead th {\n",
              "        text-align: right;\n",
              "    }\n",
              "</style>\n",
              "<table border=\"1\" class=\"dataframe\">\n",
              "  <thead>\n",
              "    <tr style=\"text-align: right;\">\n",
              "      <th></th>\n",
              "      <th>Close S&amp;P 500</th>\n",
              "      <th>Close DJ</th>\n",
              "    </tr>\n",
              "    <tr>\n",
              "      <th>Date</th>\n",
              "      <th></th>\n",
              "      <th></th>\n",
              "    </tr>\n",
              "  </thead>\n",
              "  <tbody>\n",
              "    <tr>\n",
              "      <th>2010-01-31</th>\n",
              "      <td>1117.599522</td>\n",
              "      <td>10450.476237</td>\n",
              "    </tr>\n",
              "    <tr>\n",
              "      <th>2010-02-28</th>\n",
              "      <td>1111.719407</td>\n",
              "      <td>10426.117648</td>\n",
              "    </tr>\n",
              "    <tr>\n",
              "      <th>2010-03-31</th>\n",
              "      <td>1158.411900</td>\n",
              "      <td>10771.488141</td>\n",
              "    </tr>\n",
              "    <tr>\n",
              "      <th>2010-04-30</th>\n",
              "      <td>1175.990917</td>\n",
              "      <td>10916.006303</td>\n",
              "    </tr>\n",
              "    <tr>\n",
              "      <th>2010-05-31</th>\n",
              "      <td>1122.020996</td>\n",
              "      <td>10489.033058</td>\n",
              "    </tr>\n",
              "  </tbody>\n",
              "</table>\n",
              "</div>"
            ],
            "text/plain": [
              "            Close S&P 500      Close DJ\n",
              "Date                                   \n",
              "2010-01-31    1117.599522  10450.476237\n",
              "2010-02-28    1111.719407  10426.117648\n",
              "2010-03-31    1158.411900  10771.488141\n",
              "2010-04-30    1175.990917  10916.006303\n",
              "2010-05-31    1122.020996  10489.033058"
            ]
          },
          "metadata": {
            "tags": []
          },
          "execution_count": 48
        }
      ]
    },
    {
      "cell_type": "code",
      "metadata": {
        "colab": {
          "base_uri": "https://localhost:8080/",
          "height": 502
        },
        "id": "IsmV-atg8FHg",
        "outputId": "ec5b73ef-aad9-4267-f940-c5c58f81c56d"
      },
      "source": [
        "# Graph showing the prices of both indices over time\n",
        "\n",
        "plt.plot(closing_prices)\n",
        "\n",
        "plt.legend(['S&P 500', 'DJ'], loc=2)"
      ],
      "execution_count": 49,
      "outputs": [
        {
          "output_type": "execute_result",
          "data": {
            "text/plain": [
              "<matplotlib.legend.Legend at 0x7f1a8e131470>"
            ]
          },
          "metadata": {
            "tags": []
          },
          "execution_count": 49
        },
        {
          "output_type": "display_data",
          "data": {
            "image/png": "[encoded data removed]",
            "text/plain": [
              "<Figure size 1008x576 with 1 Axes>"
            ]
          },
          "metadata": {
            "tags": []
          }
        }
      ]
    },
    {
      "cell_type": "code",
      "metadata": {
        "colab": {
          "base_uri": "https://localhost:8080/",
          "height": 235
        },
        "id": "oCkGIBam-WqC",
        "outputId": "554ad879-a706-465a-fc6a-795a54a57b0a"
      },
      "source": [
        "# Build a new table, in which each row expresses the change from the previous month in percentages\n",
        "\n",
        "returns=pd.DataFrame()\n",
        "\n",
        "for measure in closing_prices:\n",
        "   \n",
        "    if measure not in returns:\n",
        "      \n",
        "        returns[measure]= np.log(closing_prices[measure]).diff()\n",
        "\n",
        "returns=returns[1:]                \n",
        "\n",
        "returns.head()"
      ],
      "execution_count": 50,
      "outputs": [
        {
          "output_type": "execute_result",
          "data": {
            "text/html": [
              "<div>\n",
              "<style scoped>\n",
              "    .dataframe tbody tr th:only-of-type {\n",
              "        vertical-align: middle;\n",
              "    }\n",
              "\n",
              "    .dataframe tbody tr th {\n",
              "        vertical-align: top;\n",
              "    }\n",
              "\n",
              "    .dataframe thead th {\n",
              "        text-align: right;\n",
              "    }\n",
              "</style>\n",
              "<table border=\"1\" class=\"dataframe\">\n",
              "  <thead>\n",
              "    <tr style=\"text-align: right;\">\n",
              "      <th></th>\n",
              "      <th>Close S&amp;P 500</th>\n",
              "      <th>Close DJ</th>\n",
              "    </tr>\n",
              "    <tr>\n",
              "      <th>Date</th>\n",
              "      <th></th>\n",
              "      <th></th>\n",
              "    </tr>\n",
              "  </thead>\n",
              "  <tbody>\n",
              "    <tr>\n",
              "      <th>2010-02-28</th>\n",
              "      <td>-0.005275</td>\n",
              "      <td>-0.002334</td>\n",
              "    </tr>\n",
              "    <tr>\n",
              "      <th>2010-03-31</th>\n",
              "      <td>0.041142</td>\n",
              "      <td>0.032589</td>\n",
              "    </tr>\n",
              "    <tr>\n",
              "      <th>2010-04-30</th>\n",
              "      <td>0.015061</td>\n",
              "      <td>0.013328</td>\n",
              "    </tr>\n",
              "    <tr>\n",
              "      <th>2010-05-31</th>\n",
              "      <td>-0.046980</td>\n",
              "      <td>-0.039900</td>\n",
              "    </tr>\n",
              "    <tr>\n",
              "      <th>2010-06-30</th>\n",
              "      <td>-0.013565</td>\n",
              "      <td>-0.009512</td>\n",
              "    </tr>\n",
              "  </tbody>\n",
              "</table>\n",
              "</div>"
            ],
            "text/plain": [
              "            Close S&P 500  Close DJ\n",
              "Date                               \n",
              "2010-02-28      -0.005275 -0.002334\n",
              "2010-03-31       0.041142  0.032589\n",
              "2010-04-30       0.015061  0.013328\n",
              "2010-05-31      -0.046980 -0.039900\n",
              "2010-06-30      -0.013565 -0.009512"
            ]
          },
          "metadata": {
            "tags": []
          },
          "execution_count": 50
        }
      ]
    },
    {
      "cell_type": "code",
      "metadata": {
        "colab": {
          "base_uri": "https://localhost:8080/",
          "height": 297
        },
        "id": "zip6yx4gA6Kz",
        "outputId": "9787b44b-830d-4c51-98f4-3f7868c02049"
      },
      "source": [
        "# Do an initial statistical comparison, \n",
        "\n",
        "#it is important to make sure we have the same number of values (Column Count)\n",
        "\n",
        "returns.describe()"
      ],
      "execution_count": 51,
      "outputs": [
        {
          "output_type": "execute_result",
          "data": {
            "text/html": [
              "<div>\n",
              "<style scoped>\n",
              "    .dataframe tbody tr th:only-of-type {\n",
              "        vertical-align: middle;\n",
              "    }\n",
              "\n",
              "    .dataframe tbody tr th {\n",
              "        vertical-align: top;\n",
              "    }\n",
              "\n",
              "    .dataframe thead th {\n",
              "        text-align: right;\n",
              "    }\n",
              "</style>\n",
              "<table border=\"1\" class=\"dataframe\">\n",
              "  <thead>\n",
              "    <tr style=\"text-align: right;\">\n",
              "      <th></th>\n",
              "      <th>Close S&amp;P 500</th>\n",
              "      <th>Close DJ</th>\n",
              "    </tr>\n",
              "  </thead>\n",
              "  <tbody>\n",
              "    <tr>\n",
              "      <th>count</th>\n",
              "      <td>131.000000</td>\n",
              "      <td>131.000000</td>\n",
              "    </tr>\n",
              "    <tr>\n",
              "      <th>mean</th>\n",
              "      <td>0.007823</td>\n",
              "      <td>0.007003</td>\n",
              "    </tr>\n",
              "    <tr>\n",
              "      <th>std</th>\n",
              "      <td>0.029086</td>\n",
              "      <td>0.028662</td>\n",
              "    </tr>\n",
              "    <tr>\n",
              "      <th>min</th>\n",
              "      <td>-0.158369</td>\n",
              "      <td>-0.170934</td>\n",
              "    </tr>\n",
              "    <tr>\n",
              "      <th>25%</th>\n",
              "      <td>-0.003546</td>\n",
              "      <td>-0.004350</td>\n",
              "    </tr>\n",
              "    <tr>\n",
              "      <th>50%</th>\n",
              "      <td>0.008935</td>\n",
              "      <td>0.006695</td>\n",
              "    </tr>\n",
              "    <tr>\n",
              "      <th>75%</th>\n",
              "      <td>0.020883</td>\n",
              "      <td>0.019288</td>\n",
              "    </tr>\n",
              "    <tr>\n",
              "      <th>max</th>\n",
              "      <td>0.091628</td>\n",
              "      <td>0.094986</td>\n",
              "    </tr>\n",
              "  </tbody>\n",
              "</table>\n",
              "</div>"
            ],
            "text/plain": [
              "       Close S&P 500    Close DJ\n",
              "count     131.000000  131.000000\n",
              "mean        0.007823    0.007003\n",
              "std         0.029086    0.028662\n",
              "min        -0.158369   -0.170934\n",
              "25%        -0.003546   -0.004350\n",
              "50%         0.008935    0.006695\n",
              "75%         0.020883    0.019288\n",
              "max         0.091628    0.094986"
            ]
          },
          "metadata": {
            "tags": []
          },
          "execution_count": 51
        }
      ]
    },
    {
      "cell_type": "code",
      "metadata": {
        "colab": {
          "base_uri": "https://localhost:8080/",
          "height": 111
        },
        "id": "xdjPy6HuBDVf",
        "outputId": "c0e1f20d-2f71-4062-b538-7e57f3aea6f4"
      },
      "source": [
        "returns.corr()"
      ],
      "execution_count": 52,
      "outputs": [
        {
          "output_type": "execute_result",
          "data": {
            "text/html": [
              "<div>\n",
              "<style scoped>\n",
              "    .dataframe tbody tr th:only-of-type {\n",
              "        vertical-align: middle;\n",
              "    }\n",
              "\n",
              "    .dataframe tbody tr th {\n",
              "        vertical-align: top;\n",
              "    }\n",
              "\n",
              "    .dataframe thead th {\n",
              "        text-align: right;\n",
              "    }\n",
              "</style>\n",
              "<table border=\"1\" class=\"dataframe\">\n",
              "  <thead>\n",
              "    <tr style=\"text-align: right;\">\n",
              "      <th></th>\n",
              "      <th>Close S&amp;P 500</th>\n",
              "      <th>Close DJ</th>\n",
              "    </tr>\n",
              "  </thead>\n",
              "  <tbody>\n",
              "    <tr>\n",
              "      <th>Close S&amp;P 500</th>\n",
              "      <td>1.000000</td>\n",
              "      <td>0.972514</td>\n",
              "    </tr>\n",
              "    <tr>\n",
              "      <th>Close DJ</th>\n",
              "      <td>0.972514</td>\n",
              "      <td>1.000000</td>\n",
              "    </tr>\n",
              "  </tbody>\n",
              "</table>\n",
              "</div>"
            ],
            "text/plain": [
              "               Close S&P 500  Close DJ\n",
              "Close S&P 500       1.000000  0.972514\n",
              "Close DJ            0.972514  1.000000"
            ]
          },
          "metadata": {
            "tags": []
          },
          "execution_count": 52
        }
      ]
    },
    {
      "cell_type": "code",
      "metadata": {
        "colab": {
          "base_uri": "https://localhost:8080/",
          "height": 729
        },
        "id": "ZBxZpZcXBsHi",
        "outputId": "b4a50015-b1d6-4db4-bcb8-730575a730a4"
      },
      "source": [
        "from pandas.plotting import scatter_matrix\n",
        "\n",
        "scatter_matrix(returns,figsize=(16,12),alpha=0.3)"
      ],
      "execution_count": 53,
      "outputs": [
        {
          "output_type": "execute_result",
          "data": {
            "text/plain": [
              "array([[<matplotlib.axes._subplots.AxesSubplot object at 0x7f1a8e083780>,\n",
              "        <matplotlib.axes._subplots.AxesSubplot object at 0x7f1a8e0a9dd8>],\n",
              "       [<matplotlib.axes._subplots.AxesSubplot object at 0x7f1a8e064470>,\n",
              "        <matplotlib.axes._subplots.AxesSubplot object at 0x7f1a8e015ac8>]],\n",
              "      dtype=object)"
            ]
          },
          "metadata": {
            "tags": []
          },
          "execution_count": 53
        },
        {
          "output_type": "display_data",
          "data": {
            "image/png": "[encoded data removed]",
            "text/plain": [
              "<Figure size 1152x864 with 4 Axes>"
            ]
          },
          "metadata": {
            "tags": []
          }
        }
      ]
    },
    {
      "cell_type": "code",
      "metadata": {
        "id": "OOjVnyMZPBeY"
      },
      "source": [
        "#Anomaly examination"
      ],
      "execution_count": 54,
      "outputs": []
    },
    {
      "cell_type": "code",
      "metadata": {
        "colab": {
          "base_uri": "https://localhost:8080/",
          "height": 204
        },
        "id": "qaN3w42_ssZQ",
        "outputId": "62b6a936-f663-4c35-c9a7-6859c2df00d0"
      },
      "source": [
        "sp.head()"
      ],
      "execution_count": 55,
      "outputs": [
        {
          "output_type": "execute_result",
          "data": {
            "text/html": [
              "<div>\n",
              "<style scoped>\n",
              "    .dataframe tbody tr th:only-of-type {\n",
              "        vertical-align: middle;\n",
              "    }\n",
              "\n",
              "    .dataframe tbody tr th {\n",
              "        vertical-align: top;\n",
              "    }\n",
              "\n",
              "    .dataframe thead th {\n",
              "        text-align: right;\n",
              "    }\n",
              "</style>\n",
              "<table border=\"1\" class=\"dataframe\">\n",
              "  <thead>\n",
              "    <tr style=\"text-align: right;\">\n",
              "      <th></th>\n",
              "      <th>Date</th>\n",
              "      <th>Open</th>\n",
              "      <th>High</th>\n",
              "      <th>Low</th>\n",
              "      <th>Close</th>\n",
              "      <th>Volume</th>\n",
              "      <th>year</th>\n",
              "    </tr>\n",
              "  </thead>\n",
              "  <tbody>\n",
              "    <tr>\n",
              "      <th>20593</th>\n",
              "      <td>2010-04-01</td>\n",
              "      <td>1116.560059</td>\n",
              "      <td>1133.869995</td>\n",
              "      <td>1116.560059</td>\n",
              "      <td>1132.989990</td>\n",
              "      <td>3991400000</td>\n",
              "      <td>2010</td>\n",
              "    </tr>\n",
              "    <tr>\n",
              "      <th>20594</th>\n",
              "      <td>2010-05-01</td>\n",
              "      <td>1132.660034</td>\n",
              "      <td>1136.630005</td>\n",
              "      <td>1129.660034</td>\n",
              "      <td>1136.520020</td>\n",
              "      <td>2491020000</td>\n",
              "      <td>2010</td>\n",
              "    </tr>\n",
              "    <tr>\n",
              "      <th>20595</th>\n",
              "      <td>2010-06-01</td>\n",
              "      <td>1135.709961</td>\n",
              "      <td>1139.189941</td>\n",
              "      <td>1133.949951</td>\n",
              "      <td>1137.140015</td>\n",
              "      <td>4972660000</td>\n",
              "      <td>2010</td>\n",
              "    </tr>\n",
              "    <tr>\n",
              "      <th>20596</th>\n",
              "      <td>2010-07-01</td>\n",
              "      <td>1136.270020</td>\n",
              "      <td>1142.459961</td>\n",
              "      <td>1131.319946</td>\n",
              "      <td>1141.689941</td>\n",
              "      <td>5270680000</td>\n",
              "      <td>2010</td>\n",
              "    </tr>\n",
              "    <tr>\n",
              "      <th>20597</th>\n",
              "      <td>2010-08-01</td>\n",
              "      <td>1140.520020</td>\n",
              "      <td>1145.390015</td>\n",
              "      <td>1136.219971</td>\n",
              "      <td>1144.979980</td>\n",
              "      <td>4389590000</td>\n",
              "      <td>2010</td>\n",
              "    </tr>\n",
              "  </tbody>\n",
              "</table>\n",
              "</div>"
            ],
            "text/plain": [
              "            Date         Open         High  ...        Close      Volume  year\n",
              "20593 2010-04-01  1116.560059  1133.869995  ...  1132.989990  3991400000  2010\n",
              "20594 2010-05-01  1132.660034  1136.630005  ...  1136.520020  2491020000  2010\n",
              "20595 2010-06-01  1135.709961  1139.189941  ...  1137.140015  4972660000  2010\n",
              "20596 2010-07-01  1136.270020  1142.459961  ...  1141.689941  5270680000  2010\n",
              "20597 2010-08-01  1140.520020  1145.390015  ...  1144.979980  4389590000  2010\n",
              "\n",
              "[5 rows x 7 columns]"
            ]
          },
          "metadata": {
            "tags": []
          },
          "execution_count": 55
        }
      ]
    },
    {
      "cell_type": "code",
      "metadata": {
        "id": "NOflHYlms1Ci"
      },
      "source": [
        "sp_anomaly=sp[['Date', 'Close']]"
      ],
      "execution_count": 56,
      "outputs": []
    },
    {
      "cell_type": "code",
      "metadata": {
        "colab": {
          "base_uri": "https://localhost:8080/",
          "height": 204
        },
        "id": "xwp2CaLGtG-L",
        "outputId": "32482c4c-339b-4c82-dad8-eb7b7460aef3"
      },
      "source": [
        "sp_anomaly.head()"
      ],
      "execution_count": 57,
      "outputs": [
        {
          "output_type": "execute_result",
          "data": {
            "text/html": [
              "<div>\n",
              "<style scoped>\n",
              "    .dataframe tbody tr th:only-of-type {\n",
              "        vertical-align: middle;\n",
              "    }\n",
              "\n",
              "    .dataframe tbody tr th {\n",
              "        vertical-align: top;\n",
              "    }\n",
              "\n",
              "    .dataframe thead th {\n",
              "        text-align: right;\n",
              "    }\n",
              "</style>\n",
              "<table border=\"1\" class=\"dataframe\">\n",
              "  <thead>\n",
              "    <tr style=\"text-align: right;\">\n",
              "      <th></th>\n",
              "      <th>Date</th>\n",
              "      <th>Close</th>\n",
              "    </tr>\n",
              "  </thead>\n",
              "  <tbody>\n",
              "    <tr>\n",
              "      <th>20593</th>\n",
              "      <td>2010-04-01</td>\n",
              "      <td>1132.989990</td>\n",
              "    </tr>\n",
              "    <tr>\n",
              "      <th>20594</th>\n",
              "      <td>2010-05-01</td>\n",
              "      <td>1136.520020</td>\n",
              "    </tr>\n",
              "    <tr>\n",
              "      <th>20595</th>\n",
              "      <td>2010-06-01</td>\n",
              "      <td>1137.140015</td>\n",
              "    </tr>\n",
              "    <tr>\n",
              "      <th>20596</th>\n",
              "      <td>2010-07-01</td>\n",
              "      <td>1141.689941</td>\n",
              "    </tr>\n",
              "    <tr>\n",
              "      <th>20597</th>\n",
              "      <td>2010-08-01</td>\n",
              "      <td>1144.979980</td>\n",
              "    </tr>\n",
              "  </tbody>\n",
              "</table>\n",
              "</div>"
            ],
            "text/plain": [
              "            Date        Close\n",
              "20593 2010-04-01  1132.989990\n",
              "20594 2010-05-01  1136.520020\n",
              "20595 2010-06-01  1137.140015\n",
              "20596 2010-07-01  1141.689941\n",
              "20597 2010-08-01  1144.979980"
            ]
          },
          "metadata": {
            "tags": []
          },
          "execution_count": 57
        }
      ]
    },
    {
      "cell_type": "code",
      "metadata": {
        "colab": {
          "base_uri": "https://localhost:8080/"
        },
        "id": "vQJdjCvGmDi3",
        "outputId": "263feb1d-eafe-4a79-8214-30e3ee453e17"
      },
      "source": [
        "#We’ll use 80% of the data and train our model on it:\n",
        "\n",
        "train_size = int(len(sp_anomaly) * 0.80)\n",
        "\n",
        "test_size = len(sp_anomaly) - train_size\n",
        "\n",
        "train, test = sp_anomaly.iloc[0:train_size], sp_anomaly.iloc[train_size:len(sp_anomaly)]\n",
        "\n",
        "print(train.shape, test.shape)"
      ],
      "execution_count": 58,
      "outputs": [
        {
          "output_type": "stream",
          "text": [
            "(2184, 2) (546, 2)\n"
          ],
          "name": "stdout"
        }
      ]
    },
    {
      "cell_type": "code",
      "metadata": {
        "id": "3MOEIyWClMpa"
      },
      "source": [
        "#we’ll rescale the data using the training data and apply the same transformation to the test data\n",
        "\n",
        "from sklearn.preprocessing import StandardScaler\n",
        "\n",
        "scaler = StandardScaler()\n",
        "\n",
        "scaler = scaler.fit(train[['Close']])\n",
        "\n",
        "train['Close'] = scaler.transform(train[['Close']])\n",
        "\n",
        "test['Close'] = scaler.transform(test[['Close']])"
      ],
      "execution_count": 59,
      "outputs": []
    },
    {
      "cell_type": "code",
      "metadata": {
        "id": "ilThcbZRmVsi"
      },
      "source": [
        "#we’ll split the data into subsequences Using a function\n",
        "\n",
        "def create_dataset(X, y, time_steps=1):\n",
        "   \n",
        "    Xs, ys = [], []\n",
        "   \n",
        "    for i in range(len(X) - time_steps):\n",
        "      \n",
        "        v = X.iloc[i:(i + time_steps)].values\n",
        "      \n",
        "        Xs.append(v)        \n",
        "     \n",
        "        ys.append(y.iloc[i + time_steps])\n",
        "    return np.array(Xs), np.array(ys)"
      ],
      "execution_count": 60,
      "outputs": []
    },
    {
      "cell_type": "code",
      "metadata": {
        "colab": {
          "base_uri": "https://localhost:8080/"
        },
        "id": "Y4jxg8G7mYpm",
        "outputId": "3a4ceece-bd63-4f88-b776-9369e0431ecc"
      },
      "source": [
        "#We’ll create sequences with 30 days worth of historical data:\n",
        "\n",
        "time_steps = 30\n",
        "\n",
        "X_train, y_train = create_dataset(train[['Close']], train.Close, time_steps)\n",
        "\n",
        "X_test, y_test = create_dataset(test[['Close']], test.Close, time_steps)\n",
        "\n",
        "print(X_train.shape)"
      ],
      "execution_count": 61,
      "outputs": [
        {
          "output_type": "stream",
          "text": [
            "(2154, 30, 1)\n"
          ],
          "name": "stdout"
        }
      ]
    },
    {
      "cell_type": "code",
      "metadata": {
        "id": "z0jdUYGYmlXd"
      },
      "source": [
        "timesteps = X_train.shape[1]\n",
        "num_features = X_train.shape[2]"
      ],
      "execution_count": 62,
      "outputs": []
    },
    {
      "cell_type": "code",
      "metadata": {
        "colab": {
          "base_uri": "https://localhost:8080/"
        },
        "id": "PS1-I9aXmo-U",
        "outputId": "ff4710a0-3ac2-465a-9f01-e99c823ba855"
      },
      "source": [
        "#Build the model\n",
        "\n",
        "from tensorflow.keras.models import Sequential\n",
        "from tensorflow.keras.layers import Dense, LSTM, Dropout, RepeatVector, TimeDistributed\n",
        "\n",
        "model = Sequential([\n",
        "    LSTM(128, input_shape=(timesteps, num_features)),\n",
        "    Dropout(0.2),\n",
        "    RepeatVector(timesteps),\n",
        "    LSTM(128, return_sequences=True),\n",
        "    Dropout(0.2),\n",
        "    TimeDistributed(Dense(num_features))                 \n",
        "])\n",
        "\n",
        "model.compile(loss='mae', optimizer='adam')\n",
        "model.summary()"
      ],
      "execution_count": 63,
      "outputs": [
        {
          "output_type": "stream",
          "text": [
            "Model: \"sequential\"\n",
            "_________________________________________________________________\n",
            "Layer (type)                 Output Shape              Param #   \n",
            "=================================================================\n",
            "lstm (LSTM)                  (None, 128)               66560     \n",
            "_________________________________________________________________\n",
            "dropout (Dropout)            (None, 128)               0         \n",
            "_________________________________________________________________\n",
            "repeat_vector (RepeatVector) (None, 30, 128)           0         \n",
            "_________________________________________________________________\n",
            "lstm_1 (LSTM)                (None, 30, 128)           131584    \n",
            "_________________________________________________________________\n",
            "dropout_1 (Dropout)          (None, 30, 128)           0         \n",
            "_________________________________________________________________\n",
            "time_distributed (TimeDistri (None, 30, 1)             129       \n",
            "=================================================================\n",
            "Total params: 198,273\n",
            "Trainable params: 198,273\n",
            "Non-trainable params: 0\n",
            "_________________________________________________________________\n"
          ],
          "name": "stdout"
        }
      ]
    },
    {
      "cell_type": "code",
      "metadata": {
        "id": "lnOXhWIMmtfE",
        "colab": {
          "base_uri": "https://localhost:8080/"
        },
        "outputId": "35d1b265-86d3-400e-eab3-db9e33beba72"
      },
      "source": [
        "es = tf.keras.callbacks.EarlyStopping(monitor='val_loss', patience=3, mode='min')\n",
        "history = model.fit(\n",
        "    X_train, y_train,\n",
        "    epochs=100,\n",
        "    batch_size=32,\n",
        "    validation_split=0.1,\n",
        "    callbacks = [es],\n",
        "    shuffle=False\n",
        ")"
      ],
      "execution_count": 64,
      "outputs": [
        {
          "output_type": "stream",
          "text": [
            "Epoch 1/100\n",
            "61/61 [==============================] - 9s 86ms/step - loss: 0.4394 - val_loss: 0.2086\n",
            "Epoch 2/100\n",
            "61/61 [==============================] - 4s 69ms/step - loss: 0.2618 - val_loss: 0.1323\n",
            "Epoch 3/100\n",
            "61/61 [==============================] - 4s 72ms/step - loss: 0.1039 - val_loss: 0.1900\n",
            "Epoch 4/100\n",
            "61/61 [==============================] - 4s 70ms/step - loss: 0.1630 - val_loss: 0.0887\n",
            "Epoch 5/100\n",
            "61/61 [==============================] - 4s 70ms/step - loss: 0.1304 - val_loss: 0.1092\n",
            "Epoch 6/100\n",
            "61/61 [==============================] - 4s 72ms/step - loss: 0.1585 - val_loss: 0.0826\n",
            "Epoch 7/100\n",
            "61/61 [==============================] - 4s 72ms/step - loss: 0.1987 - val_loss: 0.0784\n",
            "Epoch 8/100\n",
            "61/61 [==============================] - 4s 70ms/step - loss: 0.1998 - val_loss: 0.0691\n",
            "Epoch 9/100\n",
            "61/61 [==============================] - 4s 69ms/step - loss: 0.1053 - val_loss: 0.0680\n",
            "Epoch 10/100\n",
            "61/61 [==============================] - 5s 76ms/step - loss: 0.1198 - val_loss: 0.0648\n",
            "Epoch 11/100\n",
            "61/61 [==============================] - 4s 70ms/step - loss: 0.0958 - val_loss: 0.0655\n",
            "Epoch 12/100\n",
            "61/61 [==============================] - 4s 71ms/step - loss: 0.0706 - val_loss: 0.0593\n",
            "Epoch 13/100\n",
            "61/61 [==============================] - 4s 70ms/step - loss: 0.0830 - val_loss: 0.0540\n",
            "Epoch 14/100\n",
            "61/61 [==============================] - 4s 74ms/step - loss: 0.1025 - val_loss: 0.0514\n",
            "Epoch 15/100\n",
            "61/61 [==============================] - 5s 74ms/step - loss: 0.0915 - val_loss: 0.0611\n",
            "Epoch 16/100\n",
            "61/61 [==============================] - 4s 70ms/step - loss: 0.1214 - val_loss: 0.0991\n",
            "Epoch 17/100\n",
            "61/61 [==============================] - 5s 75ms/step - loss: 0.0629 - val_loss: 0.0657\n"
          ],
          "name": "stdout"
        }
      ]
    },
    {
      "cell_type": "code",
      "metadata": {
        "id": "-H6xhPzQm0hn",
        "colab": {
          "base_uri": "https://localhost:8080/",
          "height": 485
        },
        "outputId": "bdbd681c-8086-4dea-b1f0-e1b52a74979f"
      },
      "source": [
        "plt.plot(history.history['loss'], label='Training Loss')\n",
        "plt.plot(history.history['val_loss'], label='Validation Loss')\n",
        "plt.legend();"
      ],
      "execution_count": 65,
      "outputs": [
        {
          "output_type": "display_data",
          "data": {
            "image/png": "[encoded data removed]",
            "text/plain": [
              "<Figure size 1008x576 with 1 Axes>"
            ]
          },
          "metadata": {
            "tags": []
          }
        }
      ]
    },
    {
      "cell_type": "code",
      "metadata": {
        "colab": {
          "base_uri": "https://localhost:8080/"
        },
        "id": "9zpzH6E6sa5O",
        "outputId": "584bd923-e771-4239-b74c-65177ae5ccfb"
      },
      "source": [
        "model.evaluate(X_test, y_test)"
      ],
      "execution_count": 66,
      "outputs": [
        {
          "output_type": "stream",
          "text": [
            "17/17 [==============================] - 1s 28ms/step - loss: 0.1007\n"
          ],
          "name": "stdout"
        },
        {
          "output_type": "execute_result",
          "data": {
            "text/plain": [
              "0.10068828612565994"
            ]
          },
          "metadata": {
            "tags": []
          },
          "execution_count": 66
        }
      ]
    },
    {
      "cell_type": "code",
      "metadata": {
        "id": "mjxoWORdm_nS"
      },
      "source": [
        "X_train_pred = model.predict(X_train)\n",
        "\n",
        "train_mae_loss = pd.DataFrame(np.mean(np.abs(X_train_pred - X_train), axis=1), columns=['Error'])"
      ],
      "execution_count": 67,
      "outputs": []
    },
    {
      "cell_type": "code",
      "metadata": {
        "id": "N0-N87d1nRVr",
        "colab": {
          "base_uri": "https://localhost:8080/",
          "height": 573
        },
        "outputId": "6ae495a2-7fef-4e05-ee44-3956dc14cd58"
      },
      "source": [
        "sns.distplot(train_mae_loss, bins=50, kde=True);"
      ],
      "execution_count": 68,
      "outputs": [
        {
          "output_type": "stream",
          "text": [
            "/usr/local/lib/python3.6/dist-packages/seaborn/distributions.py:2551: FutureWarning:\n",
            "\n",
            "`distplot` is a deprecated function and will be removed in a future version. Please adapt your code to use either `displot` (a figure-level function with similar flexibility) or `histplot` (an axes-level function for histograms).\n",
            "\n"
          ],
          "name": "stderr"
        },
        {
          "output_type": "display_data",
          "data": {
            "image/png": "[encoded data removed]",
            "text/plain": [
              "<Figure size 1008x576 with 1 Axes>"
            ]
          },
          "metadata": {
            "tags": []
          }
        }
      ]
    },
    {
      "cell_type": "code",
      "metadata": {
        "id": "8GqVz25XnTGl"
      },
      "source": [
        "X_test_pred = model. predict(X_test)\n",
        "\n",
        "test_mae_loss = np.mean(np.abs(X_test_pred - X_test), axis=1)"
      ],
      "execution_count": 69,
      "outputs": []
    },
    {
      "cell_type": "code",
      "metadata": {
        "id": "mos0PvEpp3JZ"
      },
      "source": [
        "\n",
        "THRESHOLD = 0.65\n",
        "\n",
        "test_score_df = pd.DataFrame(test[time_steps:])\n",
        "test_score_df['loss'] = test_mae_loss\n",
        "test_score_df['threshold'] = THRESHOLD\n",
        "test_score_df['anomaly'] = test_score_df.loss > test_score_df.threshold\n",
        "test_score_df['Close'] = test[time_steps:].Close"
      ],
      "execution_count": 70,
      "outputs": []
    },
    {
      "cell_type": "code",
      "metadata": {
        "colab": {
          "base_uri": "https://localhost:8080/",
          "height": 204
        },
        "id": "WTljMBHi2ICb",
        "outputId": "66cd281c-5704-40d7-f169-21a4ff88f92f"
      },
      "source": [
        "test_score_df.head()"
      ],
      "execution_count": 71,
      "outputs": [
        {
          "output_type": "execute_result",
          "data": {
            "text/html": [
              "<div>\n",
              "<style scoped>\n",
              "    .dataframe tbody tr th:only-of-type {\n",
              "        vertical-align: middle;\n",
              "    }\n",
              "\n",
              "    .dataframe tbody tr th {\n",
              "        vertical-align: top;\n",
              "    }\n",
              "\n",
              "    .dataframe thead th {\n",
              "        text-align: right;\n",
              "    }\n",
              "</style>\n",
              "<table border=\"1\" class=\"dataframe\">\n",
              "  <thead>\n",
              "    <tr style=\"text-align: right;\">\n",
              "      <th></th>\n",
              "      <th>Date</th>\n",
              "      <th>Close</th>\n",
              "      <th>loss</th>\n",
              "      <th>threshold</th>\n",
              "      <th>anomaly</th>\n",
              "    </tr>\n",
              "  </thead>\n",
              "  <tbody>\n",
              "    <tr>\n",
              "      <th>22807</th>\n",
              "      <td>2018-10-18</td>\n",
              "      <td>1.887381</td>\n",
              "      <td>0.233834</td>\n",
              "      <td>0.65</td>\n",
              "      <td>False</td>\n",
              "    </tr>\n",
              "    <tr>\n",
              "      <th>22808</th>\n",
              "      <td>2018-10-19</td>\n",
              "      <td>1.885382</td>\n",
              "      <td>0.243575</td>\n",
              "      <td>0.65</td>\n",
              "      <td>False</td>\n",
              "    </tr>\n",
              "    <tr>\n",
              "      <th>22809</th>\n",
              "      <td>2018-10-22</td>\n",
              "      <td>1.861601</td>\n",
              "      <td>0.248602</td>\n",
              "      <td>0.65</td>\n",
              "      <td>False</td>\n",
              "    </tr>\n",
              "    <tr>\n",
              "      <th>22810</th>\n",
              "      <td>2018-10-23</td>\n",
              "      <td>1.831245</td>\n",
              "      <td>0.257785</td>\n",
              "      <td>0.65</td>\n",
              "      <td>False</td>\n",
              "    </tr>\n",
              "    <tr>\n",
              "      <th>22811</th>\n",
              "      <td>2018-10-24</td>\n",
              "      <td>1.662197</td>\n",
              "      <td>0.271571</td>\n",
              "      <td>0.65</td>\n",
              "      <td>False</td>\n",
              "    </tr>\n",
              "  </tbody>\n",
              "</table>\n",
              "</div>"
            ],
            "text/plain": [
              "            Date     Close      loss  threshold  anomaly\n",
              "22807 2018-10-18  1.887381  0.233834       0.65    False\n",
              "22808 2018-10-19  1.885382  0.243575       0.65    False\n",
              "22809 2018-10-22  1.861601  0.248602       0.65    False\n",
              "22810 2018-10-23  1.831245  0.257785       0.65    False\n",
              "22811 2018-10-24  1.662197  0.271571       0.65    False"
            ]
          },
          "metadata": {
            "tags": []
          },
          "execution_count": 71
        }
      ]
    },
    {
      "cell_type": "code",
      "metadata": {
        "colab": {
          "base_uri": "https://localhost:8080/",
          "height": 499
        },
        "id": "ySKIquHY0gAK",
        "outputId": "07349e26-3b61-43d0-a68c-9e9c248882c7"
      },
      "source": [
        "plt.plot(test_score_df.index, test_score_df.loss, label='loss')\n",
        "plt.plot(test_score_df.index, test_score_df.threshold, label='threshold')\n",
        "plt.xticks(rotation=25)\n",
        "plt.legend();"
      ],
      "execution_count": 72,
      "outputs": [
        {
          "output_type": "display_data",
          "data": {
            "image/png": "[encoded data removed]",
            "text/plain": [
              "<Figure size 1008x576 with 1 Axes>"
            ]
          },
          "metadata": {
            "tags": []
          }
        }
      ]
    },
    {
      "cell_type": "code",
      "metadata": {
        "colab": {
          "base_uri": "https://localhost:8080/",
          "height": 204
        },
        "id": "J8N2jBRU1DgE",
        "outputId": "7178fc76-9433-49e3-dfb0-002a654fa518"
      },
      "source": [
        "anomalies = test_score_df[test_score_df.anomaly == True]\n",
        "anomalies.head()"
      ],
      "execution_count": 73,
      "outputs": [
        {
          "output_type": "execute_result",
          "data": {
            "text/html": [
              "<div>\n",
              "<style scoped>\n",
              "    .dataframe tbody tr th:only-of-type {\n",
              "        vertical-align: middle;\n",
              "    }\n",
              "\n",
              "    .dataframe tbody tr th {\n",
              "        vertical-align: top;\n",
              "    }\n",
              "\n",
              "    .dataframe thead th {\n",
              "        text-align: right;\n",
              "    }\n",
              "</style>\n",
              "<table border=\"1\" class=\"dataframe\">\n",
              "  <thead>\n",
              "    <tr style=\"text-align: right;\">\n",
              "      <th></th>\n",
              "      <th>Date</th>\n",
              "      <th>Close</th>\n",
              "      <th>loss</th>\n",
              "      <th>threshold</th>\n",
              "      <th>anomaly</th>\n",
              "    </tr>\n",
              "  </thead>\n",
              "  <tbody>\n",
              "    <tr>\n",
              "      <th>23155</th>\n",
              "      <td>2020-10-03</td>\n",
              "      <td>2.114103</td>\n",
              "      <td>0.756502</td>\n",
              "      <td>0.65</td>\n",
              "      <td>True</td>\n",
              "    </tr>\n",
              "    <tr>\n",
              "      <th>23156</th>\n",
              "      <td>2020-11-03</td>\n",
              "      <td>1.832623</td>\n",
              "      <td>0.752742</td>\n",
              "      <td>0.65</td>\n",
              "      <td>True</td>\n",
              "    </tr>\n",
              "    <tr>\n",
              "      <th>23157</th>\n",
              "      <td>2020-12-03</td>\n",
              "      <td>1.311551</td>\n",
              "      <td>0.847879</td>\n",
              "      <td>0.65</td>\n",
              "      <td>True</td>\n",
              "    </tr>\n",
              "    <tr>\n",
              "      <th>23158</th>\n",
              "      <td>2020-03-13</td>\n",
              "      <td>1.771951</td>\n",
              "      <td>1.133445</td>\n",
              "      <td>0.65</td>\n",
              "      <td>True</td>\n",
              "    </tr>\n",
              "    <tr>\n",
              "      <th>23159</th>\n",
              "      <td>2020-03-16</td>\n",
              "      <td>1.122679</td>\n",
              "      <td>1.060465</td>\n",
              "      <td>0.65</td>\n",
              "      <td>True</td>\n",
              "    </tr>\n",
              "  </tbody>\n",
              "</table>\n",
              "</div>"
            ],
            "text/plain": [
              "            Date     Close      loss  threshold  anomaly\n",
              "23155 2020-10-03  2.114103  0.756502       0.65     True\n",
              "23156 2020-11-03  1.832623  0.752742       0.65     True\n",
              "23157 2020-12-03  1.311551  0.847879       0.65     True\n",
              "23158 2020-03-13  1.771951  1.133445       0.65     True\n",
              "23159 2020-03-16  1.122679  1.060465       0.65     True"
            ]
          },
          "metadata": {
            "tags": []
          },
          "execution_count": 73
        }
      ]
    },
    {
      "cell_type": "code",
      "metadata": {
        "colab": {
          "base_uri": "https://localhost:8080/",
          "height": 609
        },
        "id": "BElupMBi3CIg",
        "outputId": "e9b0ae31-6f6b-4c91-a978-5c41dfe75e75"
      },
      "source": [
        "plt.plot(\n",
        "  #test[TIME_STEPS:].Date, \n",
        "  #scaler.inverse_transform(test[TIME_STEPS:].Close), \n",
        "  #label='close price'\n",
        ");\n",
        "\n",
        "sns.scatterplot(\n",
        "  anomalies.Date,\n",
        "  scaler.inverse_transform(anomalies.Close),\n",
        "  color=sns.color_palette()[3],\n",
        "  s=52,\n",
        "  label='anomaly'\n",
        ")\n",
        "plt.xticks(rotation=25)\n",
        "plt.legend();"
      ],
      "execution_count": 74,
      "outputs": [
        {
          "output_type": "stream",
          "text": [
            "/usr/local/lib/python3.6/dist-packages/seaborn/_decorators.py:43: FutureWarning:\n",
            "\n",
            "Pass the following variables as keyword args: x, y. From version 0.12, the only valid positional argument will be `data`, and passing other arguments without an explicit keyword will result in an error or misinterpretation.\n",
            "\n"
          ],
          "name": "stderr"
        },
        {
          "output_type": "display_data",
          "data": {
            "image/png": "[encoded data removed]",
            "text/plain": [
              "<Figure size 1008x576 with 1 Axes>"
            ]
          },
          "metadata": {
            "tags": []
          }
        }
      ]
    }
  ]
}